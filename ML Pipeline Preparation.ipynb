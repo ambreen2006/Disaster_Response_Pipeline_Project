{
 "cells": [
  {
   "cell_type": "markdown",
   "metadata": {},
   "source": [
    "# ML Pipeline Preparation\n",
    "Follow the instructions below to help you create your ML pipeline.\n",
    "### 1. Import libraries and load data from database.\n",
    "- Import Python libraries\n",
    "- Load dataset from database with [`read_sql_table`](https://pandas.pydata.org/pandas-docs/stable/generated/pandas.read_sql_table.html)\n",
    "- Define feature and target variables X and Y"
   ]
  },
  {
   "cell_type": "code",
   "execution_count": 99,
   "metadata": {},
   "outputs": [
    {
     "name": "stderr",
     "output_type": "stream",
     "text": [
      "[nltk_data] Downloading package punkt to /home/ambreen/nltk_data...\n",
      "[nltk_data]   Package punkt is already up-to-date!\n",
      "[nltk_data] Downloading package wordnet to /home/ambreen/nltk_data...\n",
      "[nltk_data]   Package wordnet is already up-to-date!\n"
     ]
    },
    {
     "data": {
      "text/plain": [
       "True"
      ]
     },
     "execution_count": 99,
     "metadata": {},
     "output_type": "execute_result"
    }
   ],
   "source": [
    "# import libraries\n",
    "import re\n",
    "import numpy as np\n",
    "import pandas as pd\n",
    "\n",
    "from sklearn.metrics import roc_auc_score\n",
    "from sklearn.metrics import f1_score\n",
    "from sklearn.model_selection import GridSearchCV\n",
    "from sklearn.metrics import classification_report\n",
    "from sklearn.pipeline import Pipeline, FeatureUnion\n",
    "from sklearn.ensemble import RandomForestClassifier, AdaBoostClassifier, ExtraTreesClassifier\n",
    "from sklearn.tree import DecisionTreeClassifier\n",
    "from sklearn.multioutput import MultiOutputClassifier\n",
    "from sklearn.model_selection import train_test_split\n",
    "from sklearn.feature_extraction.text import CountVectorizer, TfidfTransformer\n",
    "from sklearn.base import BaseEstimator, TransformerMixin\n",
    "\n",
    "from sqlalchemy import create_engine\n",
    "\n",
    "import nltk\n",
    "from nltk.tokenize import word_tokenize\n",
    "from nltk.stem import WordNetLemmatizer\n",
    "nltk.download(['punkt', 'wordnet'])"
   ]
  },
  {
   "cell_type": "code",
   "execution_count": 2,
   "metadata": {},
   "outputs": [
    {
     "name": "stdout",
     "output_type": "stream",
     "text": [
      "The scikit-learn version is 0.23.1.\n"
     ]
    }
   ],
   "source": [
    "import sklearn\n",
    "print('The scikit-learn version is {}.'.format(sklearn.__version__))"
   ]
  },
  {
   "cell_type": "code",
   "execution_count": 3,
   "metadata": {},
   "outputs": [
    {
     "data": {
      "text/plain": [
       "Index(['message', 'genre'], dtype='object')"
      ]
     },
     "metadata": {},
     "output_type": "display_data"
    },
    {
     "data": {
      "text/plain": [
       "Index(['related', 'request', 'offer', 'aid_related', 'medical_help',\n",
       "       'medical_products', 'search_and_rescue', 'security', 'military',\n",
       "       'child_alone', 'water', 'food', 'shelter', 'clothing', 'money',\n",
       "       'missing_people', 'refugees', 'death', 'other_aid',\n",
       "       'infrastructure_related', 'transport', 'buildings', 'electricity',\n",
       "       'tools', 'hospitals', 'shops', 'aid_centers', 'other_infrastructure',\n",
       "       'weather_related', 'floods', 'storm', 'fire', 'earthquake', 'cold',\n",
       "       'other_weather', 'direct_report'],\n",
       "      dtype='object')"
      ]
     },
     "metadata": {},
     "output_type": "display_data"
    }
   ],
   "source": [
    "# load data from database\n",
    "engine = create_engine('sqlite:///data/DisasterResponse.db')\n",
    "df = pd.read_sql('select * from Messages', engine)\n",
    "df.drop(columns = ['id', 'original'], inplace = True)\n",
    "X = df[['message', 'genre']]\n",
    "Y = df.loc[:, ~df.columns.isin(X.columns)]\n",
    "display(X.columns)\n",
    "display(Y.columns)"
   ]
  },
  {
   "cell_type": "markdown",
   "metadata": {},
   "source": [
    "### Clean data for modeling"
   ]
  },
  {
   "cell_type": "markdown",
   "metadata": {},
   "source": [
    "`related` has 3 classes: 0, 1, and 2. Since the number of records with the class 2 in this label is very small, I'm counting it as class type 1"
   ]
  },
  {
   "cell_type": "code",
   "execution_count": 4,
   "metadata": {},
   "outputs": [
    {
     "data": {
      "text/plain": [
       "1    0.759307\n",
       "0    0.233522\n",
       "2    0.007171\n",
       "Name: related, dtype: float64"
      ]
     },
     "execution_count": 4,
     "metadata": {},
     "output_type": "execute_result"
    }
   ],
   "source": [
    "Y['related'].value_counts()/Y.shape[0]"
   ]
  },
  {
   "cell_type": "code",
   "execution_count": 5,
   "metadata": {},
   "outputs": [],
   "source": [
    "Y_mod = Y"
   ]
  },
  {
   "cell_type": "code",
   "execution_count": 6,
   "metadata": {},
   "outputs": [
    {
     "name": "stderr",
     "output_type": "stream",
     "text": [
      "/home/ambreen/anaconda3/lib/python3.7/site-packages/pandas/core/frame.py:4172: SettingWithCopyWarning: \n",
      "A value is trying to be set on a copy of a slice from a DataFrame\n",
      "\n",
      "See the caveats in the documentation: https://pandas.pydata.org/pandas-docs/stable/user_guide/indexing.html#returning-a-view-versus-a-copy\n",
      "  method=method,\n"
     ]
    }
   ],
   "source": [
    "Y_mod.replace(to_replace = 2, value = 1, inplace = True)"
   ]
  },
  {
   "cell_type": "code",
   "execution_count": 7,
   "metadata": {},
   "outputs": [
    {
     "data": {
      "text/html": [
       "<div>\n",
       "<style scoped>\n",
       "    .dataframe tbody tr th:only-of-type {\n",
       "        vertical-align: middle;\n",
       "    }\n",
       "\n",
       "    .dataframe tbody tr th {\n",
       "        vertical-align: top;\n",
       "    }\n",
       "\n",
       "    .dataframe thead th {\n",
       "        text-align: right;\n",
       "    }\n",
       "</style>\n",
       "<table border=\"1\" class=\"dataframe\">\n",
       "  <thead>\n",
       "    <tr style=\"text-align: right;\">\n",
       "      <th></th>\n",
       "      <th>related</th>\n",
       "      <th>request</th>\n",
       "      <th>offer</th>\n",
       "      <th>aid_related</th>\n",
       "      <th>medical_help</th>\n",
       "      <th>medical_products</th>\n",
       "      <th>search_and_rescue</th>\n",
       "      <th>security</th>\n",
       "      <th>military</th>\n",
       "      <th>child_alone</th>\n",
       "      <th>...</th>\n",
       "      <th>aid_centers</th>\n",
       "      <th>other_infrastructure</th>\n",
       "      <th>weather_related</th>\n",
       "      <th>floods</th>\n",
       "      <th>storm</th>\n",
       "      <th>fire</th>\n",
       "      <th>earthquake</th>\n",
       "      <th>cold</th>\n",
       "      <th>other_weather</th>\n",
       "      <th>direct_report</th>\n",
       "    </tr>\n",
       "  </thead>\n",
       "  <tbody>\n",
       "    <tr>\n",
       "      <th>count</th>\n",
       "      <td>26216.000000</td>\n",
       "      <td>26216.000000</td>\n",
       "      <td>26216.000000</td>\n",
       "      <td>26216.000000</td>\n",
       "      <td>26216.000000</td>\n",
       "      <td>26216.000000</td>\n",
       "      <td>26216.000000</td>\n",
       "      <td>26216.000000</td>\n",
       "      <td>26216.000000</td>\n",
       "      <td>26216.0</td>\n",
       "      <td>...</td>\n",
       "      <td>26216.000000</td>\n",
       "      <td>26216.000000</td>\n",
       "      <td>26216.000000</td>\n",
       "      <td>26216.000000</td>\n",
       "      <td>26216.000000</td>\n",
       "      <td>26216.000000</td>\n",
       "      <td>26216.000000</td>\n",
       "      <td>26216.000000</td>\n",
       "      <td>26216.000000</td>\n",
       "      <td>26216.000000</td>\n",
       "    </tr>\n",
       "    <tr>\n",
       "      <th>mean</th>\n",
       "      <td>0.766478</td>\n",
       "      <td>0.170659</td>\n",
       "      <td>0.004501</td>\n",
       "      <td>0.414251</td>\n",
       "      <td>0.079493</td>\n",
       "      <td>0.050084</td>\n",
       "      <td>0.027617</td>\n",
       "      <td>0.017966</td>\n",
       "      <td>0.032804</td>\n",
       "      <td>0.0</td>\n",
       "      <td>...</td>\n",
       "      <td>0.011787</td>\n",
       "      <td>0.043904</td>\n",
       "      <td>0.278341</td>\n",
       "      <td>0.082202</td>\n",
       "      <td>0.093187</td>\n",
       "      <td>0.010757</td>\n",
       "      <td>0.093645</td>\n",
       "      <td>0.020217</td>\n",
       "      <td>0.052487</td>\n",
       "      <td>0.193584</td>\n",
       "    </tr>\n",
       "    <tr>\n",
       "      <th>std</th>\n",
       "      <td>0.423079</td>\n",
       "      <td>0.376218</td>\n",
       "      <td>0.066940</td>\n",
       "      <td>0.492602</td>\n",
       "      <td>0.270513</td>\n",
       "      <td>0.218122</td>\n",
       "      <td>0.163875</td>\n",
       "      <td>0.132831</td>\n",
       "      <td>0.178128</td>\n",
       "      <td>0.0</td>\n",
       "      <td>...</td>\n",
       "      <td>0.107927</td>\n",
       "      <td>0.204887</td>\n",
       "      <td>0.448191</td>\n",
       "      <td>0.274677</td>\n",
       "      <td>0.290700</td>\n",
       "      <td>0.103158</td>\n",
       "      <td>0.291340</td>\n",
       "      <td>0.140743</td>\n",
       "      <td>0.223011</td>\n",
       "      <td>0.395114</td>\n",
       "    </tr>\n",
       "    <tr>\n",
       "      <th>min</th>\n",
       "      <td>0.000000</td>\n",
       "      <td>0.000000</td>\n",
       "      <td>0.000000</td>\n",
       "      <td>0.000000</td>\n",
       "      <td>0.000000</td>\n",
       "      <td>0.000000</td>\n",
       "      <td>0.000000</td>\n",
       "      <td>0.000000</td>\n",
       "      <td>0.000000</td>\n",
       "      <td>0.0</td>\n",
       "      <td>...</td>\n",
       "      <td>0.000000</td>\n",
       "      <td>0.000000</td>\n",
       "      <td>0.000000</td>\n",
       "      <td>0.000000</td>\n",
       "      <td>0.000000</td>\n",
       "      <td>0.000000</td>\n",
       "      <td>0.000000</td>\n",
       "      <td>0.000000</td>\n",
       "      <td>0.000000</td>\n",
       "      <td>0.000000</td>\n",
       "    </tr>\n",
       "    <tr>\n",
       "      <th>25%</th>\n",
       "      <td>1.000000</td>\n",
       "      <td>0.000000</td>\n",
       "      <td>0.000000</td>\n",
       "      <td>0.000000</td>\n",
       "      <td>0.000000</td>\n",
       "      <td>0.000000</td>\n",
       "      <td>0.000000</td>\n",
       "      <td>0.000000</td>\n",
       "      <td>0.000000</td>\n",
       "      <td>0.0</td>\n",
       "      <td>...</td>\n",
       "      <td>0.000000</td>\n",
       "      <td>0.000000</td>\n",
       "      <td>0.000000</td>\n",
       "      <td>0.000000</td>\n",
       "      <td>0.000000</td>\n",
       "      <td>0.000000</td>\n",
       "      <td>0.000000</td>\n",
       "      <td>0.000000</td>\n",
       "      <td>0.000000</td>\n",
       "      <td>0.000000</td>\n",
       "    </tr>\n",
       "    <tr>\n",
       "      <th>50%</th>\n",
       "      <td>1.000000</td>\n",
       "      <td>0.000000</td>\n",
       "      <td>0.000000</td>\n",
       "      <td>0.000000</td>\n",
       "      <td>0.000000</td>\n",
       "      <td>0.000000</td>\n",
       "      <td>0.000000</td>\n",
       "      <td>0.000000</td>\n",
       "      <td>0.000000</td>\n",
       "      <td>0.0</td>\n",
       "      <td>...</td>\n",
       "      <td>0.000000</td>\n",
       "      <td>0.000000</td>\n",
       "      <td>0.000000</td>\n",
       "      <td>0.000000</td>\n",
       "      <td>0.000000</td>\n",
       "      <td>0.000000</td>\n",
       "      <td>0.000000</td>\n",
       "      <td>0.000000</td>\n",
       "      <td>0.000000</td>\n",
       "      <td>0.000000</td>\n",
       "    </tr>\n",
       "    <tr>\n",
       "      <th>75%</th>\n",
       "      <td>1.000000</td>\n",
       "      <td>0.000000</td>\n",
       "      <td>0.000000</td>\n",
       "      <td>1.000000</td>\n",
       "      <td>0.000000</td>\n",
       "      <td>0.000000</td>\n",
       "      <td>0.000000</td>\n",
       "      <td>0.000000</td>\n",
       "      <td>0.000000</td>\n",
       "      <td>0.0</td>\n",
       "      <td>...</td>\n",
       "      <td>0.000000</td>\n",
       "      <td>0.000000</td>\n",
       "      <td>1.000000</td>\n",
       "      <td>0.000000</td>\n",
       "      <td>0.000000</td>\n",
       "      <td>0.000000</td>\n",
       "      <td>0.000000</td>\n",
       "      <td>0.000000</td>\n",
       "      <td>0.000000</td>\n",
       "      <td>0.000000</td>\n",
       "    </tr>\n",
       "    <tr>\n",
       "      <th>max</th>\n",
       "      <td>1.000000</td>\n",
       "      <td>1.000000</td>\n",
       "      <td>1.000000</td>\n",
       "      <td>1.000000</td>\n",
       "      <td>1.000000</td>\n",
       "      <td>1.000000</td>\n",
       "      <td>1.000000</td>\n",
       "      <td>1.000000</td>\n",
       "      <td>1.000000</td>\n",
       "      <td>0.0</td>\n",
       "      <td>...</td>\n",
       "      <td>1.000000</td>\n",
       "      <td>1.000000</td>\n",
       "      <td>1.000000</td>\n",
       "      <td>1.000000</td>\n",
       "      <td>1.000000</td>\n",
       "      <td>1.000000</td>\n",
       "      <td>1.000000</td>\n",
       "      <td>1.000000</td>\n",
       "      <td>1.000000</td>\n",
       "      <td>1.000000</td>\n",
       "    </tr>\n",
       "  </tbody>\n",
       "</table>\n",
       "<p>8 rows × 36 columns</p>\n",
       "</div>"
      ],
      "text/plain": [
       "            related       request         offer   aid_related  medical_help  \\\n",
       "count  26216.000000  26216.000000  26216.000000  26216.000000  26216.000000   \n",
       "mean       0.766478      0.170659      0.004501      0.414251      0.079493   \n",
       "std        0.423079      0.376218      0.066940      0.492602      0.270513   \n",
       "min        0.000000      0.000000      0.000000      0.000000      0.000000   \n",
       "25%        1.000000      0.000000      0.000000      0.000000      0.000000   \n",
       "50%        1.000000      0.000000      0.000000      0.000000      0.000000   \n",
       "75%        1.000000      0.000000      0.000000      1.000000      0.000000   \n",
       "max        1.000000      1.000000      1.000000      1.000000      1.000000   \n",
       "\n",
       "       medical_products  search_and_rescue      security      military  \\\n",
       "count      26216.000000       26216.000000  26216.000000  26216.000000   \n",
       "mean           0.050084           0.027617      0.017966      0.032804   \n",
       "std            0.218122           0.163875      0.132831      0.178128   \n",
       "min            0.000000           0.000000      0.000000      0.000000   \n",
       "25%            0.000000           0.000000      0.000000      0.000000   \n",
       "50%            0.000000           0.000000      0.000000      0.000000   \n",
       "75%            0.000000           0.000000      0.000000      0.000000   \n",
       "max            1.000000           1.000000      1.000000      1.000000   \n",
       "\n",
       "       child_alone  ...   aid_centers  other_infrastructure  weather_related  \\\n",
       "count      26216.0  ...  26216.000000          26216.000000     26216.000000   \n",
       "mean           0.0  ...      0.011787              0.043904         0.278341   \n",
       "std            0.0  ...      0.107927              0.204887         0.448191   \n",
       "min            0.0  ...      0.000000              0.000000         0.000000   \n",
       "25%            0.0  ...      0.000000              0.000000         0.000000   \n",
       "50%            0.0  ...      0.000000              0.000000         0.000000   \n",
       "75%            0.0  ...      0.000000              0.000000         1.000000   \n",
       "max            0.0  ...      1.000000              1.000000         1.000000   \n",
       "\n",
       "             floods         storm          fire    earthquake          cold  \\\n",
       "count  26216.000000  26216.000000  26216.000000  26216.000000  26216.000000   \n",
       "mean       0.082202      0.093187      0.010757      0.093645      0.020217   \n",
       "std        0.274677      0.290700      0.103158      0.291340      0.140743   \n",
       "min        0.000000      0.000000      0.000000      0.000000      0.000000   \n",
       "25%        0.000000      0.000000      0.000000      0.000000      0.000000   \n",
       "50%        0.000000      0.000000      0.000000      0.000000      0.000000   \n",
       "75%        0.000000      0.000000      0.000000      0.000000      0.000000   \n",
       "max        1.000000      1.000000      1.000000      1.000000      1.000000   \n",
       "\n",
       "       other_weather  direct_report  \n",
       "count   26216.000000   26216.000000  \n",
       "mean        0.052487       0.193584  \n",
       "std         0.223011       0.395114  \n",
       "min         0.000000       0.000000  \n",
       "25%         0.000000       0.000000  \n",
       "50%         0.000000       0.000000  \n",
       "75%         0.000000       0.000000  \n",
       "max         1.000000       1.000000  \n",
       "\n",
       "[8 rows x 36 columns]"
      ]
     },
     "execution_count": 7,
     "metadata": {},
     "output_type": "execute_result"
    }
   ],
   "source": [
    "Y_mod.describe()"
   ]
  },
  {
   "cell_type": "markdown",
   "metadata": {},
   "source": [
    "Labels with only one class i.e. 0 is removed so I can use different scoring methods without running into errors"
   ]
  },
  {
   "cell_type": "code",
   "execution_count": 8,
   "metadata": {},
   "outputs": [
    {
     "data": {
      "text/plain": [
       "related                   False\n",
       "request                   False\n",
       "offer                     False\n",
       "aid_related               False\n",
       "medical_help              False\n",
       "medical_products          False\n",
       "search_and_rescue         False\n",
       "security                  False\n",
       "military                  False\n",
       "child_alone                True\n",
       "water                     False\n",
       "food                      False\n",
       "shelter                   False\n",
       "clothing                  False\n",
       "money                     False\n",
       "missing_people            False\n",
       "refugees                  False\n",
       "death                     False\n",
       "other_aid                 False\n",
       "infrastructure_related    False\n",
       "transport                 False\n",
       "buildings                 False\n",
       "electricity               False\n",
       "tools                     False\n",
       "hospitals                 False\n",
       "shops                     False\n",
       "aid_centers               False\n",
       "other_infrastructure      False\n",
       "weather_related           False\n",
       "floods                    False\n",
       "storm                     False\n",
       "fire                      False\n",
       "earthquake                False\n",
       "cold                      False\n",
       "other_weather             False\n",
       "direct_report             False\n",
       "dtype: bool"
      ]
     },
     "execution_count": 8,
     "metadata": {},
     "output_type": "execute_result"
    }
   ],
   "source": [
    "Y_mod.sum() == 0"
   ]
  },
  {
   "cell_type": "code",
   "execution_count": 9,
   "metadata": {},
   "outputs": [],
   "source": [
    "Y_mod = Y_mod.drop(columns = ['child_alone'])"
   ]
  },
  {
   "cell_type": "markdown",
   "metadata": {},
   "source": [
    "### 2. Write a tokenization function to process your text data"
   ]
  },
  {
   "cell_type": "code",
   "execution_count": 10,
   "metadata": {},
   "outputs": [],
   "source": [
    "def tokenize(text):\n",
    "    url_regex = 'http[s]?://(?:[a-zA-Z]|[0-9]|[$-_@.&+]|[!*\\(\\),]|(?:%[0-9a-fA-F][0-9a-fA-F]))+'\n",
    "    text = re.sub(url_regex, 'urlplaceholder', text)    \n",
    "    lemmatizer = WordNetLemmatizer()\n",
    "    tokens = word_tokenize(text)\n",
    "    tokens = [lemmatizer.lemmatize(x).lower().strip() for x in tokens]\n",
    "    return tokens"
   ]
  },
  {
   "cell_type": "markdown",
   "metadata": {},
   "source": [
    "### 3. Build a machine learning pipeline\n",
    "This machine pipeline should take in the `message` column as input and output classification results on the other 36 categories in the dataset. You may find the [MultiOutputClassifier](http://scikit-learn.org/stable/modules/generated/sklearn.multioutput.MultiOutputClassifier.html) helpful for predicting multiple target variables."
   ]
  },
  {
   "cell_type": "code",
   "execution_count": 11,
   "metadata": {},
   "outputs": [],
   "source": [
    "pipeline1 = Pipeline([\n",
    "    ('vect', CountVectorizer(tokenizer = tokenize)),\n",
    "    ('tfidf', TfidfTransformer()),\n",
    "    ('classifier', MultiOutputClassifier(AdaBoostClassifier()))\n",
    "])"
   ]
  },
  {
   "cell_type": "markdown",
   "metadata": {},
   "source": [
    "### 4. Train pipeline\n",
    "- Split data into train and test sets\n",
    "- Train pipeline"
   ]
  },
  {
   "cell_type": "code",
   "execution_count": 12,
   "metadata": {},
   "outputs": [],
   "source": [
    "X_msg = X['message']\n",
    "X_train, X_test, y_train, y_test = train_test_split(X_msg, Y_mod)"
   ]
  },
  {
   "cell_type": "code",
   "execution_count": 13,
   "metadata": {},
   "outputs": [
    {
     "data": {
      "text/plain": [
       "Pipeline(steps=[('vect',\n",
       "                 CountVectorizer(tokenizer=<function tokenize at 0x7f52d8637680>)),\n",
       "                ('tfidf', TfidfTransformer()),\n",
       "                ('classifier',\n",
       "                 MultiOutputClassifier(estimator=AdaBoostClassifier()))])"
      ]
     },
     "execution_count": 13,
     "metadata": {},
     "output_type": "execute_result"
    }
   ],
   "source": [
    "pipeline1.fit(X_train, y_train)"
   ]
  },
  {
   "cell_type": "markdown",
   "metadata": {},
   "source": [
    "### 5. Test your model\n",
    "Report the f1 score, precision and recall for each output category of the dataset. You can do this by iterating through the columns and calling sklearn's `classification_report` on each."
   ]
  },
  {
   "cell_type": "code",
   "execution_count": 14,
   "metadata": {},
   "outputs": [],
   "source": [
    "y_pred1 = pipeline1.predict(X_test)"
   ]
  },
  {
   "cell_type": "code",
   "execution_count": 15,
   "metadata": {
    "collapsed": true
   },
   "outputs": [
    {
     "name": "stdout",
     "output_type": "stream",
     "text": [
      "related\n",
      "-------------------------------------------------------\n",
      "              precision    recall  f1-score   support\n",
      "\n",
      "           0       0.66      0.34      0.45      1568\n",
      "           1       0.82      0.95      0.88      4986\n",
      "\n",
      "    accuracy                           0.80      6554\n",
      "   macro avg       0.74      0.64      0.66      6554\n",
      "weighted avg       0.78      0.80      0.77      6554\n",
      "\n",
      "request\n",
      "-------------------------------------------------------\n",
      "              precision    recall  f1-score   support\n",
      "\n",
      "           0       0.91      0.96      0.94      5411\n",
      "           1       0.76      0.55      0.64      1143\n",
      "\n",
      "    accuracy                           0.89      6554\n",
      "   macro avg       0.83      0.76      0.79      6554\n",
      "weighted avg       0.88      0.89      0.88      6554\n",
      "\n",
      "offer\n",
      "-------------------------------------------------------\n",
      "              precision    recall  f1-score   support\n",
      "\n",
      "           0       1.00      1.00      1.00      6529\n",
      "           1       0.00      0.00      0.00        25\n",
      "\n",
      "    accuracy                           0.99      6554\n",
      "   macro avg       0.50      0.50      0.50      6554\n",
      "weighted avg       0.99      0.99      0.99      6554\n",
      "\n",
      "aid_related\n",
      "-------------------------------------------------------\n",
      "              precision    recall  f1-score   support\n",
      "\n",
      "           0       0.76      0.86      0.81      3858\n",
      "           1       0.76      0.60      0.67      2696\n",
      "\n",
      "    accuracy                           0.76      6554\n",
      "   macro avg       0.76      0.73      0.74      6554\n",
      "weighted avg       0.76      0.76      0.75      6554\n",
      "\n",
      "medical_help\n",
      "-------------------------------------------------------\n",
      "              precision    recall  f1-score   support\n",
      "\n",
      "           0       0.94      0.98      0.96      6012\n",
      "           1       0.58      0.26      0.36       542\n",
      "\n",
      "    accuracy                           0.92      6554\n",
      "   macro avg       0.76      0.62      0.66      6554\n",
      "weighted avg       0.91      0.92      0.91      6554\n",
      "\n",
      "medical_products\n",
      "-------------------------------------------------------\n",
      "              precision    recall  f1-score   support\n",
      "\n",
      "           0       0.96      0.99      0.98      6224\n",
      "           1       0.63      0.32      0.42       330\n",
      "\n",
      "    accuracy                           0.96      6554\n",
      "   macro avg       0.80      0.65      0.70      6554\n",
      "weighted avg       0.95      0.96      0.95      6554\n",
      "\n",
      "search_and_rescue\n",
      "-------------------------------------------------------\n",
      "              precision    recall  f1-score   support\n",
      "\n",
      "           0       0.98      1.00      0.99      6378\n",
      "           1       0.60      0.22      0.32       176\n",
      "\n",
      "    accuracy                           0.98      6554\n",
      "   macro avg       0.79      0.61      0.66      6554\n",
      "weighted avg       0.97      0.98      0.97      6554\n",
      "\n",
      "security\n",
      "-------------------------------------------------------\n",
      "              precision    recall  f1-score   support\n",
      "\n",
      "           0       0.98      1.00      0.99      6437\n",
      "           1       0.27      0.03      0.06       117\n",
      "\n",
      "    accuracy                           0.98      6554\n",
      "   macro avg       0.62      0.52      0.53      6554\n",
      "weighted avg       0.97      0.98      0.97      6554\n",
      "\n",
      "military\n",
      "-------------------------------------------------------\n",
      "              precision    recall  f1-score   support\n",
      "\n",
      "           0       0.98      0.99      0.99      6348\n",
      "           1       0.62      0.33      0.43       206\n",
      "\n",
      "    accuracy                           0.97      6554\n",
      "   macro avg       0.80      0.66      0.71      6554\n",
      "weighted avg       0.97      0.97      0.97      6554\n",
      "\n",
      "water\n",
      "-------------------------------------------------------\n",
      "              precision    recall  f1-score   support\n",
      "\n",
      "           0       0.98      0.98      0.98      6155\n",
      "           1       0.72      0.66      0.69       399\n",
      "\n",
      "    accuracy                           0.96      6554\n",
      "   macro avg       0.85      0.82      0.84      6554\n",
      "weighted avg       0.96      0.96      0.96      6554\n",
      "\n",
      "food\n",
      "-------------------------------------------------------\n",
      "              precision    recall  f1-score   support\n",
      "\n",
      "           0       0.97      0.98      0.97      5824\n",
      "           1       0.79      0.72      0.76       730\n",
      "\n",
      "    accuracy                           0.95      6554\n",
      "   macro avg       0.88      0.85      0.86      6554\n",
      "weighted avg       0.95      0.95      0.95      6554\n",
      "\n",
      "shelter\n",
      "-------------------------------------------------------\n",
      "              precision    recall  f1-score   support\n",
      "\n",
      "           0       0.96      0.98      0.97      5975\n",
      "           1       0.77      0.56      0.65       579\n",
      "\n",
      "    accuracy                           0.95      6554\n",
      "   macro avg       0.86      0.77      0.81      6554\n",
      "weighted avg       0.94      0.95      0.94      6554\n",
      "\n",
      "clothing\n",
      "-------------------------------------------------------\n",
      "              precision    recall  f1-score   support\n",
      "\n",
      "           0       0.99      1.00      0.99      6457\n",
      "           1       0.61      0.36      0.45        97\n",
      "\n",
      "    accuracy                           0.99      6554\n",
      "   macro avg       0.80      0.68      0.72      6554\n",
      "weighted avg       0.98      0.99      0.99      6554\n",
      "\n",
      "money\n",
      "-------------------------------------------------------\n",
      "              precision    recall  f1-score   support\n",
      "\n",
      "           0       0.98      1.00      0.99      6406\n",
      "           1       0.52      0.24      0.33       148\n",
      "\n",
      "    accuracy                           0.98      6554\n",
      "   macro avg       0.75      0.62      0.66      6554\n",
      "weighted avg       0.97      0.98      0.97      6554\n",
      "\n",
      "missing_people\n",
      "-------------------------------------------------------\n",
      "              precision    recall  f1-score   support\n",
      "\n",
      "           0       0.99      1.00      0.99      6467\n",
      "           1       0.69      0.21      0.32        87\n",
      "\n",
      "    accuracy                           0.99      6554\n",
      "   macro avg       0.84      0.60      0.66      6554\n",
      "weighted avg       0.99      0.99      0.99      6554\n",
      "\n",
      "refugees\n",
      "-------------------------------------------------------\n",
      "              precision    recall  f1-score   support\n",
      "\n",
      "           0       0.97      1.00      0.99      6339\n",
      "           1       0.65      0.25      0.36       215\n",
      "\n",
      "    accuracy                           0.97      6554\n",
      "   macro avg       0.81      0.62      0.67      6554\n",
      "weighted avg       0.96      0.97      0.96      6554\n",
      "\n",
      "death\n",
      "-------------------------------------------------------\n",
      "              precision    recall  f1-score   support\n",
      "\n",
      "           0       0.97      0.99      0.98      6256\n",
      "           1       0.73      0.43      0.54       298\n",
      "\n",
      "    accuracy                           0.97      6554\n",
      "   macro avg       0.85      0.71      0.76      6554\n",
      "weighted avg       0.96      0.97      0.96      6554\n",
      "\n",
      "other_aid\n",
      "-------------------------------------------------------\n",
      "              precision    recall  f1-score   support\n",
      "\n",
      "           0       0.88      0.98      0.93      5660\n",
      "           1       0.53      0.15      0.23       894\n",
      "\n",
      "    accuracy                           0.87      6554\n",
      "   macro avg       0.70      0.56      0.58      6554\n",
      "weighted avg       0.83      0.87      0.83      6554\n",
      "\n",
      "infrastructure_related\n",
      "-------------------------------------------------------\n",
      "              precision    recall  f1-score   support\n",
      "\n",
      "           0       0.94      0.99      0.96      6134\n",
      "           1       0.39      0.10      0.16       420\n",
      "\n",
      "    accuracy                           0.93      6554\n",
      "   macro avg       0.66      0.55      0.56      6554\n",
      "weighted avg       0.91      0.93      0.91      6554\n",
      "\n",
      "transport\n",
      "-------------------------------------------------------\n",
      "              precision    recall  f1-score   support\n",
      "\n",
      "           0       0.96      1.00      0.98      6250\n",
      "           1       0.72      0.18      0.29       304\n",
      "\n",
      "    accuracy                           0.96      6554\n",
      "   macro avg       0.84      0.59      0.64      6554\n",
      "weighted avg       0.95      0.96      0.95      6554\n",
      "\n",
      "buildings\n",
      "-------------------------------------------------------\n",
      "              precision    recall  f1-score   support\n",
      "\n",
      "           0       0.97      0.99      0.98      6205\n",
      "           1       0.69      0.41      0.51       349\n",
      "\n",
      "    accuracy                           0.96      6554\n",
      "   macro avg       0.83      0.70      0.75      6554\n",
      "weighted avg       0.95      0.96      0.95      6554\n",
      "\n",
      "electricity\n",
      "-------------------------------------------------------\n",
      "              precision    recall  f1-score   support\n",
      "\n",
      "           0       0.99      1.00      0.99      6426\n",
      "           1       0.68      0.28      0.40       128\n",
      "\n",
      "    accuracy                           0.98      6554\n",
      "   macro avg       0.83      0.64      0.69      6554\n",
      "weighted avg       0.98      0.98      0.98      6554\n",
      "\n",
      "tools\n",
      "-------------------------------------------------------\n",
      "              precision    recall  f1-score   support\n",
      "\n",
      "           0       1.00      1.00      1.00      6526\n",
      "           1       0.00      0.00      0.00        28\n",
      "\n",
      "    accuracy                           0.99      6554\n",
      "   macro avg       0.50      0.50      0.50      6554\n",
      "weighted avg       0.99      0.99      0.99      6554\n",
      "\n",
      "hospitals\n",
      "-------------------------------------------------------\n",
      "              precision    recall  f1-score   support\n",
      "\n",
      "           0       0.99      1.00      0.99      6488\n",
      "           1       0.19      0.06      0.09        66\n",
      "\n",
      "    accuracy                           0.99      6554\n",
      "   macro avg       0.59      0.53      0.54      6554\n",
      "weighted avg       0.98      0.99      0.98      6554\n",
      "\n",
      "shops\n",
      "-------------------------------------------------------\n",
      "              precision    recall  f1-score   support\n",
      "\n",
      "           0       1.00      1.00      1.00      6525\n",
      "           1       0.33      0.07      0.11        29\n",
      "\n",
      "    accuracy                           1.00      6554\n",
      "   macro avg       0.66      0.53      0.56      6554\n",
      "weighted avg       0.99      1.00      0.99      6554\n",
      "\n",
      "aid_centers\n",
      "-------------------------------------------------------\n",
      "              precision    recall  f1-score   support\n",
      "\n",
      "           0       0.99      1.00      0.99      6478\n",
      "           1       0.19      0.07      0.10        76\n",
      "\n",
      "    accuracy                           0.99      6554\n",
      "   macro avg       0.59      0.53      0.54      6554\n",
      "weighted avg       0.98      0.99      0.98      6554\n",
      "\n",
      "other_infrastructure\n",
      "-------------------------------------------------------\n",
      "              precision    recall  f1-score   support\n",
      "\n",
      "           0       0.96      0.99      0.98      6271\n",
      "           1       0.32      0.07      0.12       283\n",
      "\n",
      "    accuracy                           0.95      6554\n",
      "   macro avg       0.64      0.53      0.55      6554\n",
      "weighted avg       0.93      0.95      0.94      6554\n",
      "\n",
      "weather_related\n",
      "-------------------------------------------------------\n"
     ]
    },
    {
     "name": "stdout",
     "output_type": "stream",
     "text": [
      "              precision    recall  f1-score   support\n",
      "\n",
      "           0       0.88      0.95      0.92      4725\n",
      "           1       0.85      0.67      0.75      1829\n",
      "\n",
      "    accuracy                           0.88      6554\n",
      "   macro avg       0.87      0.81      0.83      6554\n",
      "weighted avg       0.87      0.88      0.87      6554\n",
      "\n",
      "floods\n",
      "-------------------------------------------------------\n",
      "              precision    recall  f1-score   support\n",
      "\n",
      "           0       0.96      0.99      0.98      6015\n",
      "           1       0.88      0.56      0.69       539\n",
      "\n",
      "    accuracy                           0.96      6554\n",
      "   macro avg       0.92      0.78      0.83      6554\n",
      "weighted avg       0.96      0.96      0.95      6554\n",
      "\n",
      "storm\n",
      "-------------------------------------------------------\n",
      "              precision    recall  f1-score   support\n",
      "\n",
      "           0       0.95      0.98      0.97      5907\n",
      "           1       0.76      0.53      0.62       647\n",
      "\n",
      "    accuracy                           0.94      6554\n",
      "   macro avg       0.85      0.76      0.80      6554\n",
      "weighted avg       0.93      0.94      0.93      6554\n",
      "\n",
      "fire\n",
      "-------------------------------------------------------\n",
      "              precision    recall  f1-score   support\n",
      "\n",
      "           0       0.99      1.00      1.00      6485\n",
      "           1       0.57      0.25      0.34        69\n",
      "\n",
      "    accuracy                           0.99      6554\n",
      "   macro avg       0.78      0.62      0.67      6554\n",
      "weighted avg       0.99      0.99      0.99      6554\n",
      "\n",
      "earthquake\n",
      "-------------------------------------------------------\n",
      "              precision    recall  f1-score   support\n",
      "\n",
      "           0       0.98      0.99      0.98      5924\n",
      "           1       0.88      0.76      0.82       630\n",
      "\n",
      "    accuracy                           0.97      6554\n",
      "   macro avg       0.93      0.88      0.90      6554\n",
      "weighted avg       0.97      0.97      0.97      6554\n",
      "\n",
      "cold\n",
      "-------------------------------------------------------\n",
      "              precision    recall  f1-score   support\n",
      "\n",
      "           0       0.99      1.00      0.99      6422\n",
      "           1       0.68      0.34      0.45       132\n",
      "\n",
      "    accuracy                           0.98      6554\n",
      "   macro avg       0.83      0.67      0.72      6554\n",
      "weighted avg       0.98      0.98      0.98      6554\n",
      "\n",
      "other_weather\n",
      "-------------------------------------------------------\n",
      "              precision    recall  f1-score   support\n",
      "\n",
      "           0       0.96      0.99      0.97      6221\n",
      "           1       0.49      0.21      0.29       333\n",
      "\n",
      "    accuracy                           0.95      6554\n",
      "   macro avg       0.72      0.60      0.63      6554\n",
      "weighted avg       0.93      0.95      0.94      6554\n",
      "\n",
      "direct_report\n",
      "-------------------------------------------------------\n",
      "              precision    recall  f1-score   support\n",
      "\n",
      "           0       0.88      0.96      0.92      5244\n",
      "           1       0.74      0.49      0.59      1310\n",
      "\n",
      "    accuracy                           0.86      6554\n",
      "   macro avg       0.81      0.72      0.75      6554\n",
      "weighted avg       0.85      0.86      0.85      6554\n",
      "\n"
     ]
    }
   ],
   "source": [
    "cols = Y_mod.columns.values\n",
    "sum_macro_avg = 0\n",
    "\n",
    "for i in range(0, len(cols)):\n",
    "    print(f'{cols[i]}')\n",
    "    print('-'*55)\n",
    "    c_pred = y_pred1[:,i]\n",
    "    c_true = y_test[cols[i]]\n",
    "    print(classification_report(c_true, c_pred))"
   ]
  },
  {
   "cell_type": "code",
   "execution_count": 109,
   "metadata": {},
   "outputs": [],
   "source": [
    "def display_scores(y_true, predicted):\n",
    "    display(f1_score(y_test, predicted, average = 'weighted'))\n",
    "    display(roc_auc_score(y_true, predicted, multi_class = 'ovo', average = 'weighted'))"
   ]
  },
  {
   "cell_type": "code",
   "execution_count": 16,
   "metadata": {},
   "outputs": [
    {
     "data": {
      "text/plain": [
       "0.6342734489694501"
      ]
     },
     "execution_count": 16,
     "metadata": {},
     "output_type": "execute_result"
    }
   ],
   "source": [
    "f1_score(y_test.values, y_pred1, average = 'weighted')"
   ]
  },
  {
   "cell_type": "code",
   "execution_count": 17,
   "metadata": {},
   "outputs": [
    {
     "data": {
      "text/plain": [
       "0.6993409287861484"
      ]
     },
     "execution_count": 17,
     "metadata": {},
     "output_type": "execute_result"
    }
   ],
   "source": [
    "roc_auc_score(y_test, y_pred1, multi_class = 'ovo', average = 'weighted')"
   ]
  },
  {
   "cell_type": "code",
   "execution_count": 18,
   "metadata": {
    "collapsed": true
   },
   "outputs": [
    {
     "name": "stdout",
     "output_type": "stream",
     "text": [
      "              precision    recall  f1-score   support\n",
      "\n",
      "           0       0.82      0.95      0.88      4986\n",
      "           1       0.76      0.55      0.64      1143\n",
      "           2       0.00      0.00      0.00        25\n",
      "           3       0.76      0.60      0.67      2696\n",
      "           4       0.58      0.26      0.36       542\n",
      "           5       0.63      0.32      0.42       330\n",
      "           6       0.60      0.22      0.32       176\n",
      "           7       0.27      0.03      0.06       117\n",
      "           8       0.62      0.33      0.43       206\n",
      "           9       0.72      0.66      0.69       399\n",
      "          10       0.79      0.72      0.76       730\n",
      "          11       0.77      0.56      0.65       579\n",
      "          12       0.61      0.36      0.45        97\n",
      "          13       0.52      0.24      0.33       148\n",
      "          14       0.69      0.21      0.32        87\n",
      "          15       0.65      0.25      0.36       215\n",
      "          16       0.73      0.43      0.54       298\n",
      "          17       0.53      0.15      0.23       894\n",
      "          18       0.39      0.10      0.16       420\n",
      "          19       0.72      0.18      0.29       304\n",
      "          20       0.69      0.41      0.51       349\n",
      "          21       0.68      0.28      0.40       128\n",
      "          22       0.00      0.00      0.00        28\n",
      "          23       0.19      0.06      0.09        66\n",
      "          24       0.33      0.07      0.11        29\n",
      "          25       0.19      0.07      0.10        76\n",
      "          26       0.32      0.07      0.12       283\n",
      "          27       0.85      0.67      0.75      1829\n",
      "          28       0.88      0.56      0.69       539\n",
      "          29       0.76      0.53      0.62       647\n",
      "          30       0.57      0.25      0.34        69\n",
      "          31       0.88      0.76      0.82       630\n",
      "          32       0.68      0.34      0.45       132\n",
      "          33       0.49      0.21      0.29       333\n",
      "          34       0.74      0.49      0.59      1310\n",
      "\n",
      "   micro avg       0.77      0.59      0.67     20840\n",
      "   macro avg       0.58      0.34      0.41     20840\n",
      "weighted avg       0.73      0.59      0.63     20840\n",
      " samples avg       0.64      0.51      0.52     20840\n",
      "\n"
     ]
    },
    {
     "name": "stderr",
     "output_type": "stream",
     "text": [
      "/home/ambreen/anaconda3/lib/python3.7/site-packages/sklearn/metrics/_classification.py:1221: UndefinedMetricWarning: Precision and F-score are ill-defined and being set to 0.0 in samples with no predicted labels. Use `zero_division` parameter to control this behavior.\n",
      "  _warn_prf(average, modifier, msg_start, len(result))\n",
      "/home/ambreen/anaconda3/lib/python3.7/site-packages/sklearn/metrics/_classification.py:1221: UndefinedMetricWarning: Recall and F-score are ill-defined and being set to 0.0 in samples with no true labels. Use `zero_division` parameter to control this behavior.\n",
      "  _warn_prf(average, modifier, msg_start, len(result))\n"
     ]
    }
   ],
   "source": [
    "print(classification_report(y_test.values, y_pred1))"
   ]
  },
  {
   "cell_type": "markdown",
   "metadata": {},
   "source": [
    "### 6. Improve your model\n",
    "Use grid search to find better parameters. "
   ]
  },
  {
   "cell_type": "code",
   "execution_count": 20,
   "metadata": {},
   "outputs": [],
   "source": [
    "from sklearn.metrics import precision_recall_fscore_support"
   ]
  },
  {
   "cell_type": "code",
   "execution_count": 59,
   "metadata": {},
   "outputs": [],
   "source": [
    "vect = CountVectorizer(tokenizer = tokenize)\n",
    "tfidf = TfidfTransformer()\n",
    "y_true = y_test.values\n",
    "perf = []\n",
    "y_preds_all = dict()\n",
    "\n",
    "candidates = [\n",
    "    ['AdaBoost', MultiOutputClassifier(AdaBoostClassifier())],\n",
    "    ['RandomForest', RandomForestClassifier()],\n",
    "    ['ExtraTreesClassifier', ExtraTreesClassifier()],\n",
    "    ['DecisionTreeClassifier', DecisionTreeClassifier()]\n",
    "]\n",
    "\n",
    "for i in range(len(candidates)):\n",
    "    p = Pipeline([\n",
    "        ('vect', vect),\n",
    "        ('tfidf', tfidf),\n",
    "        ('classifier', candidates[i][1])\n",
    "    ])\n",
    "    \n",
    "    candidates[i][1] = p.fit(X_train, y_train)\n",
    "    pred = p.predict(X_test)\n",
    "    y_preds_all[candidates[i][0]] = pred\n",
    "    sf1 = f1_score(y_true, pred, averageAlone = 'weighted', labels = np.unique(pred))\n",
    "    sauc = roc_auc_score(y_true, pred, multi_class = 'ovo', average = 'weighted')\n",
    "    perf.append([sauc, sf1])"
   ]
  },
  {
   "cell_type": "code",
   "execution_count": 60,
   "metadata": {},
   "outputs": [],
   "source": [
    "score_names = ['AUC', 'F-1']"
   ]
  },
  {
   "cell_type": "code",
   "execution_count": 61,
   "metadata": {},
   "outputs": [
    {
     "data": {
      "text/plain": [
       "<matplotlib.axes._subplots.AxesSubplot at 0x7f52c5ec8e50>"
      ]
     },
     "execution_count": 61,
     "metadata": {},
     "output_type": "execute_result"
    },
    {
     "data": {
      "image/png": "[encoded data removed]",
      "text/plain": [
       "<Figure size 432x288 with 1 Axes>"
      ]
     },
     "metadata": {
      "needs_background": "light"
     },
     "output_type": "display_data"
    }
   ],
   "source": [
    "import matplotlib.pyplot as plt\n",
    "\n",
    "score_df = pd.DataFrame(perf, columns = score_names, index = list(map(lambda x:  x[0], candidates)))\n",
    "score_df.plot(kind = 'bar')"
   ]
  },
  {
   "cell_type": "markdown",
   "metadata": {},
   "source": [
    "Looks like adaBoost has better F-1 and AUC combination so using it as the estimator for parameter searching."
   ]
  },
  {
   "cell_type": "code",
   "execution_count": 62,
   "metadata": {},
   "outputs": [],
   "source": [
    "selected_pipeline = Pipeline([\n",
    "    ('vect', vect),\n",
    "    ('tfidf', tfidf),\n",
    "    ('classifier', MultiOutputClassifier(AdaBoostClassifier()))\n",
    "])"
   ]
  },
  {
   "cell_type": "code",
   "execution_count": 63,
   "metadata": {},
   "outputs": [
    {
     "data": {
      "text/plain": [
       "{'memory': None,\n",
       " 'steps': [('vect',\n",
       "   CountVectorizer(tokenizer=<function tokenize at 0x7f52d8637680>)),\n",
       "  ('tfidf', TfidfTransformer()),\n",
       "  ('classifier', MultiOutputClassifier(estimator=AdaBoostClassifier()))],\n",
       " 'verbose': False,\n",
       " 'vect': CountVectorizer(tokenizer=<function tokenize at 0x7f52d8637680>),\n",
       " 'tfidf': TfidfTransformer(),\n",
       " 'classifier': MultiOutputClassifier(estimator=AdaBoostClassifier()),\n",
       " 'vect__analyzer': 'word',\n",
       " 'vect__binary': False,\n",
       " 'vect__decode_error': 'strict',\n",
       " 'vect__dtype': numpy.int64,\n",
       " 'vect__encoding': 'utf-8',\n",
       " 'vect__input': 'content',\n",
       " 'vect__lowercase': True,\n",
       " 'vect__max_df': 1.0,\n",
       " 'vect__max_features': None,\n",
       " 'vect__min_df': 1,\n",
       " 'vect__ngram_range': (1, 1),\n",
       " 'vect__preprocessor': None,\n",
       " 'vect__stop_words': None,\n",
       " 'vect__strip_accents': None,\n",
       " 'vect__token_pattern': '(?u)\\\\b\\\\w\\\\w+\\\\b',\n",
       " 'vect__tokenizer': <function __main__.tokenize(text)>,\n",
       " 'vect__vocabulary': None,\n",
       " 'tfidf__norm': 'l2',\n",
       " 'tfidf__smooth_idf': True,\n",
       " 'tfidf__sublinear_tf': False,\n",
       " 'tfidf__use_idf': True,\n",
       " 'classifier__estimator__algorithm': 'SAMME.R',\n",
       " 'classifier__estimator__base_estimator': None,\n",
       " 'classifier__estimator__learning_rate': 1.0,\n",
       " 'classifier__estimator__n_estimators': 50,\n",
       " 'classifier__estimator__random_state': None,\n",
       " 'classifier__estimator': AdaBoostClassifier(),\n",
       " 'classifier__n_jobs': None}"
      ]
     },
     "execution_count": 63,
     "metadata": {},
     "output_type": "execute_result"
    }
   ],
   "source": [
    "selected_pipeline.get_params()"
   ]
  },
  {
   "cell_type": "code",
   "execution_count": 65,
   "metadata": {},
   "outputs": [],
   "source": [
    "parameters = {\n",
    "    'classifier__estimator__learning_rate': [0.2, 0.4, 0.6, 0.8, 1],\n",
    "    'tfidf__use_idf': [True, False],\n",
    "    'classifier__estimator__algorithm':['SAMME', 'SAMME.R'],\n",
    "    'classifier__estimator__n_estimators': [5, 10, 15, 20, 30, 40, 50],\n",
    "    }\n",
    "\n",
    "cv = GridSearchCV(selected_pipeline, param_grid = parameters, verbose = 2, n_jobs = -1)"
   ]
  },
  {
   "cell_type": "code",
   "execution_count": 66,
   "metadata": {},
   "outputs": [
    {
     "name": "stdout",
     "output_type": "stream",
     "text": [
      "Fitting 5 folds for each of 140 candidates, totalling 700 fits\n"
     ]
    },
    {
     "name": "stderr",
     "output_type": "stream",
     "text": [
      "[Parallel(n_jobs=-1)]: Using backend LokyBackend with 8 concurrent workers.\n",
      "[Parallel(n_jobs=-1)]: Done  25 tasks      | elapsed:  3.0min\n",
      "[Parallel(n_jobs=-1)]: Done 146 tasks      | elapsed: 30.8min\n",
      "[Parallel(n_jobs=-1)]: Done 349 tasks      | elapsed: 75.4min\n",
      "[Parallel(n_jobs=-1)]: Done 632 tasks      | elapsed: 137.5min\n",
      "[Parallel(n_jobs=-1)]: Done 700 out of 700 | elapsed: 153.0min finished\n"
     ]
    },
    {
     "name": "stdout",
     "output_type": "stream",
     "text": [
      "CPU times: user 1min 57s, sys: 1.69 s, total: 1min 59s\n",
      "Wall time: 2h 34min 47s\n"
     ]
    },
    {
     "data": {
      "text/plain": [
       "GridSearchCV(estimator=Pipeline(steps=[('vect',\n",
       "                                        CountVectorizer(tokenizer=<function tokenize at 0x7f52d8637680>)),\n",
       "                                       ('tfidf', TfidfTransformer()),\n",
       "                                       ('classifier',\n",
       "                                        MultiOutputClassifier(estimator=AdaBoostClassifier()))]),\n",
       "             n_jobs=-1,\n",
       "             param_grid={'classifier__estimator__algorithm': ['SAMME',\n",
       "                                                              'SAMME.R'],\n",
       "                         'classifier__estimator__learning_rate': [0.2, 0.4, 0.6,\n",
       "                                                                  0.8, 1],\n",
       "                         'classifier__estimator__n_estimators': [5, 10, 15, 20,\n",
       "                                                                 30, 40, 50],\n",
       "                         'tfidf__use_idf': [True, False]},\n",
       "             verbose=2)"
      ]
     },
     "execution_count": 66,
     "metadata": {},
     "output_type": "execute_result"
    }
   ],
   "source": [
    "%%time\n",
    "\n",
    "cv.fit(X_train, y_train)"
   ]
  },
  {
   "cell_type": "code",
   "execution_count": 69,
   "metadata": {},
   "outputs": [
    {
     "data": {
      "text/plain": [
       "Pipeline(steps=[('vect',\n",
       "                 CountVectorizer(tokenizer=<function tokenize at 0x7f52d8637680>)),\n",
       "                ('tfidf', TfidfTransformer()),\n",
       "                ('classifier',\n",
       "                 MultiOutputClassifier(estimator=AdaBoostClassifier(learning_rate=0.8)))])"
      ]
     },
     "execution_count": 69,
     "metadata": {},
     "output_type": "execute_result"
    }
   ],
   "source": [
    "cv.best_estimator_"
   ]
  },
  {
   "cell_type": "code",
   "execution_count": 71,
   "metadata": {},
   "outputs": [
    {
     "data": {
      "text/plain": [
       "{'classifier__estimator__algorithm': 'SAMME.R',\n",
       " 'classifier__estimator__learning_rate': 0.8,\n",
       " 'classifier__estimator__n_estimators': 50,\n",
       " 'tfidf__use_idf': True}"
      ]
     },
     "execution_count": 71,
     "metadata": {},
     "output_type": "execute_result"
    }
   ],
   "source": [
    "cv.best_params_"
   ]
  },
  {
   "cell_type": "markdown",
   "metadata": {},
   "source": [
    "### 7. Test your model\n",
    "Show the accuracy, precision, and recall of the tuned model.  \n",
    "\n",
    "Since this project focuses on code quality, process, and  pipelines, there is no minimum performance metric needed to pass. However, make sure to fine tune your models for accuracy, precision and recall to make your project stand out - especially for your portfolio!"
   ]
  },
  {
   "cell_type": "code",
   "execution_count": 72,
   "metadata": {},
   "outputs": [],
   "source": [
    "y_pred2 = cv.predict(X_test)"
   ]
  },
  {
   "cell_type": "code",
   "execution_count": 74,
   "metadata": {},
   "outputs": [
    {
     "data": {
      "text/plain": [
       "0.8344803894428419"
      ]
     },
     "metadata": {},
     "output_type": "display_data"
    },
    {
     "data": {
      "text/plain": [
       "0.691173423260702"
      ]
     },
     "metadata": {},
     "output_type": "display_data"
    }
   ],
   "source": [
    "display(f1_score(y_true, y_pred2, average = 'weighted', labels = np.unique(pred)))\n",
    "display(roc_auc_score(y_true, y_pred2, multi_class = 'ovo', average = 'weighted'))"
   ]
  },
  {
   "cell_type": "markdown",
   "metadata": {},
   "source": [
    "### 8. Try improving your model further. Here are a few ideas:\n",
    "* try other machine learning algorithms\n",
    "* add other features besides the TF-IDF"
   ]
  },
  {
   "cell_type": "code",
   "execution_count": 102,
   "metadata": {},
   "outputs": [],
   "source": [
    "class StartingVerbExtractor(BaseEstimator, TransformerMixin):\n",
    "    \n",
    "    def starting_verb(self, text):\n",
    "        sentence_list = nltk.sent_tokenize(text)\n",
    "        for sentence in sentence_list:\n",
    "            pos_tags = nltk.pos_tag(tokenize(sentence))\n",
    "            first_word, first_tag = pos_tags[0]\n",
    "            if first_tag in ['VB', 'VBP']:\n",
    "                return True\n",
    "        return False\n",
    "    \n",
    "    def fit(self, x, y = None):\n",
    "        return self\n",
    "    \n",
    "    def transform(self, X):\n",
    "        X_tagged = pd.Series(X).apply(self.starting_verb)\n",
    "        return pd.DataFrame(X_tagged)"
   ]
  },
  {
   "cell_type": "code",
   "execution_count": 106,
   "metadata": {},
   "outputs": [],
   "source": [
    "vect = CountVectorizer(tokenizer = tokenize)\n",
    "tfidf = TfidfTransformer()\n",
    "\n",
    "pipeline_extended = Pipeline([\n",
    "    ('features', FeatureUnion([\n",
    "        ('text', Pipeline([\n",
    "            ('vect', vect),\n",
    "            ('tfidf', tfidf)\n",
    "        ])),\n",
    "        ('starting_verb', StartingVerbExtractor())\n",
    "    ])),\n",
    "    ('classifier', MultiOutputClassifier(AdaBoostClassifier(learning_rate = 0.8)))\n",
    "])"
   ]
  },
  {
   "cell_type": "code",
   "execution_count": 107,
   "metadata": {},
   "outputs": [
    {
     "data": {
      "text/plain": [
       "Pipeline(steps=[('features',\n",
       "                 FeatureUnion(transformer_list=[('text',\n",
       "                                                 Pipeline(steps=[('vect',\n",
       "                                                                  CountVectorizer(tokenizer=<function tokenize at 0x7f52d8637680>)),\n",
       "                                                                 ('tfidf',\n",
       "                                                                  TfidfTransformer())])),\n",
       "                                                ('starting_verb',\n",
       "                                                 StartingVerbExtractor())])),\n",
       "                ('classifier',\n",
       "                 MultiOutputClassifier(estimator=AdaBoostClassifier(learning_rate=0.8)))])"
      ]
     },
     "execution_count": 107,
     "metadata": {},
     "output_type": "execute_result"
    }
   ],
   "source": [
    "pipeline_extended.fit(X_train, y_train)"
   ]
  },
  {
   "cell_type": "code",
   "execution_count": 108,
   "metadata": {},
   "outputs": [],
   "source": [
    "pred_extended = pipeline_extended.predict(X_test)"
   ]
  },
  {
   "cell_type": "code",
   "execution_count": 110,
   "metadata": {},
   "outputs": [
    {
     "data": {
      "text/plain": [
       "0.6234450529025545"
      ]
     },
     "metadata": {},
     "output_type": "display_data"
    },
    {
     "data": {
      "text/plain": [
       "0.691173423260702"
      ]
     },
     "metadata": {},
     "output_type": "display_data"
    }
   ],
   "source": [
    "display_scores(y_test.values, pred_extended)"
   ]
  },
  {
   "cell_type": "markdown",
   "metadata": {},
   "source": [
    "### 9. Export your model as a pickle file"
   ]
  },
  {
   "cell_type": "code",
   "execution_count": 75,
   "metadata": {},
   "outputs": [],
   "source": [
    "import pickle\n",
    "s = pickle.dump(cv, open('classifier.pkl', 'wb'))"
   ]
  },
  {
   "cell_type": "markdown",
   "metadata": {},
   "source": [
    "### 10. Use this notebook to complete `train.py`\n",
    "Use the template file attached in the Resources folder to write a script that runs the steps above to create a database and export a model based on a new dataset specified by the user."
   ]
  },
  {
   "cell_type": "code",
   "execution_count": null,
   "metadata": {},
   "outputs": [],
   "source": []
  }
 ],
 "metadata": {
  "kernelspec": {
   "display_name": "Python 3",
   "language": "python",
   "name": "python3"
  },
  "language_info": {
   "codemirror_mode": {
    "name": "ipython",
    "version": 3
   },
   "file_extension": ".py",
   "mimetype": "text/x-python",
   "name": "python",
   "nbconvert_exporter": "python",
   "pygments_lexer": "ipython3",
   "version": "3.7.7"
  }
 },
 "nbformat": 4,
 "nbformat_minor": 2
}
