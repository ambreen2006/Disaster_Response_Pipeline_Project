{
 "cells": [
  {
   "cell_type": "markdown",
   "metadata": {
    "colab_type": "text",
    "id": "pIvj3UDRzt7h"
   },
   "source": [
    "# ML Pipeline Preparation\n",
    "Follow the instructions below to help you create your ML pipeline.\n",
    "### 1. Import libraries and load data from database.\n",
    "- Import Python libraries\n",
    "- Load dataset from database with [`read_sql_table`](https://pandas.pydata.org/pandas-docs/stable/generated/pandas.read_sql_table.html)\n",
    "- Define feature and target variables X and Y"
   ]
  },
  {
   "cell_type": "code",
   "execution_count": 3,
   "metadata": {
    "colab": {
     "base_uri": "https://localhost:8080/",
     "height": 139
    },
    "colab_type": "code",
    "executionInfo": {
     "elapsed": 19340,
     "status": "ok",
     "timestamp": 1592264474544,
     "user": {
      "displayName": "Ambreen Haleem",
      "photoUrl": "https://lh3.googleusercontent.com/a-/AOh14GjsIC0qh7HqdDe1fvSRpWhReu4AaIK27b-NLLzRRQ=s64",
      "userId": "06768820983597929615"
     },
     "user_tz": 240
    },
    "id": "qwnhRjwtzxxW",
    "outputId": "e1b9cfa9-7cce-4a3b-9cc8-266b3f6e7777"
   },
   "outputs": [
    {
     "name": "stdout",
     "output_type": "stream",
     "text": [
      "Go to this URL in a browser: https://accounts.google.com/o/oauth2/auth?client_id=947318989803-6bn6qk8qdgf4n4g3pfee6491hc0brc4i.apps.googleusercontent.com&redirect_uri=urn%3aietf%3awg%3aoauth%3a2.0%3aoob&response_type=code&scope=email%20https%3a%2f%2fwww.googleapis.com%2fauth%2fdocs.test%20https%3a%2f%2fwww.googleapis.com%2fauth%2fdrive%20https%3a%2f%2fwww.googleapis.com%2fauth%2fdrive.photos.readonly%20https%3a%2f%2fwww.googleapis.com%2fauth%2fpeopleapi.readonly\n",
      "\n",
      "Enter your authorization code:\n",
      "··········\n",
      "Mounted at /content/drive\n",
      "Drive already mounted at /content/drive; to attempt to forcibly remount, call drive.mount(\"/content/drive\", force_remount=True).\n"
     ]
    }
   ],
   "source": [
    "from google.colab import drive\n",
    "drive.mount('/content/drive')"
   ]
  },
  {
   "cell_type": "code",
   "execution_count": 4,
   "metadata": {
    "colab": {
     "base_uri": "https://localhost:8080/",
     "height": 102
    },
    "colab_type": "code",
    "executionInfo": {
     "elapsed": 3107,
     "status": "ok",
     "timestamp": 1592264480664,
     "user": {
      "displayName": "Ambreen Haleem",
      "photoUrl": "https://lh3.googleusercontent.com/a-/AOh14GjsIC0qh7HqdDe1fvSRpWhReu4AaIK27b-NLLzRRQ=s64",
      "userId": "06768820983597929615"
     },
     "user_tz": 240
    },
    "id": "87kodH_Bzt7h",
    "outputId": "a7143e0c-fa66-4910-e968-8840a55392c4"
   },
   "outputs": [
    {
     "name": "stderr",
     "output_type": "stream",
     "text": [
      "[nltk_data] Downloading package punkt to /home/ambreen/nltk_data...\n",
      "[nltk_data]   Package punkt is already up-to-date!\n",
      "[nltk_data] Downloading package wordnet to /home/ambreen/nltk_data...\n",
      "[nltk_data]   Package wordnet is already up-to-date!\n"
     ]
    },
    {
     "data": {
      "text/plain": [
       "True"
      ]
     },
     "execution_count": 4,
     "metadata": {},
     "output_type": "execute_result"
    }
   ],
   "source": [
    "# import libraries\n",
    "import re\n",
    "import numpy as np\n",
    "import pandas as pd\n",
    "import pickle\n",
    "\n",
    "from xgboost import XGBClassifier\n",
    "from sklearn.metrics import roc_auc_score\n",
    "from sklearn.metrics import f1_score, recall_score\n",
    "from sklearn.model_selection import GridSearchCV\n",
    "from sklearn.metrics import classification_report\n",
    "from sklearn.pipeline import Pipeline, FeatureUnion\n",
    "from sklearn.ensemble import RandomForestClassifier, AdaBoostClassifier, ExtraTreesClassifier\n",
    "from sklearn.tree import DecisionTreeClassifier\n",
    "from sklearn.multioutput import MultiOutputClassifier\n",
    "from sklearn.model_selection import train_test_split\n",
    "from sklearn.feature_extraction.text import CountVectorizer, TfidfTransformer\n",
    "from sklearn.base import BaseEstimator, TransformerMixin\n",
    "\n",
    "from sqlalchemy import create_engine\n",
    "\n",
    "import sklearn\n",
    "import nltk\n",
    "from nltk.tokenize import word_tokenize\n",
    "from nltk.stem import WordNetLemmatizer\n",
    "nltk.download(['punkt', 'wordnet'])"
   ]
  },
  {
   "cell_type": "code",
   "execution_count": 5,
   "metadata": {
    "colab": {
     "base_uri": "https://localhost:8080/",
     "height": 34
    },
    "colab_type": "code",
    "executionInfo": {
     "elapsed": 355,
     "status": "ok",
     "timestamp": 1592264484175,
     "user": {
      "displayName": "Ambreen Haleem",
      "photoUrl": "https://lh3.googleusercontent.com/a-/AOh14GjsIC0qh7HqdDe1fvSRpWhReu4AaIK27b-NLLzRRQ=s64",
      "userId": "06768820983597929615"
     },
     "user_tz": 240
    },
    "id": "kc-Oocnrzt7l",
    "outputId": "5d417af3-fd4e-4ee0-96ff-ce135b0e5fa1"
   },
   "outputs": [
    {
     "name": "stdout",
     "output_type": "stream",
     "text": [
      "The scikit-learn version is 0.23.1.\n"
     ]
    }
   ],
   "source": [
    "print('The scikit-learn version is {}.'.format(sklearn.__version__))"
   ]
  },
  {
   "cell_type": "code",
   "execution_count": 6,
   "metadata": {
    "colab": {},
    "colab_type": "code",
    "id": "OpkMnOJ11IVy"
   },
   "outputs": [],
   "source": [
    "local = 1\n",
    "if local:\n",
    "  db_path = 'sqlite:///data/DisasterResponse.db'\n",
    "else:\n",
    "  #content/drive/My Drive/Udacity/Disaster_Response_Pipeline_Project/data/DisasterResponse.db\n",
    "  db_path = 'sqlite:///drive/My Drive/Udacity/Disaster_Response_Pipeline_Project/data/DisasterResponse.db'"
   ]
  },
  {
   "cell_type": "code",
   "execution_count": 7,
   "metadata": {
    "colab": {
     "base_uri": "https://localhost:8080/",
     "height": 187
    },
    "colab_type": "code",
    "executionInfo": {
     "elapsed": 2369,
     "status": "ok",
     "timestamp": 1592264489364,
     "user": {
      "displayName": "Ambreen Haleem",
      "photoUrl": "https://lh3.googleusercontent.com/a-/AOh14GjsIC0qh7HqdDe1fvSRpWhReu4AaIK27b-NLLzRRQ=s64",
      "userId": "06768820983597929615"
     },
     "user_tz": 240
    },
    "id": "Cz6jhDAZzt7n",
    "outputId": "961eff85-4fcc-44b3-c53d-36bddfa724bd"
   },
   "outputs": [
    {
     "data": {
      "text/plain": [
       "Index(['message', 'genre'], dtype='object')"
      ]
     },
     "metadata": {},
     "output_type": "display_data"
    },
    {
     "data": {
      "text/plain": [
       "Index(['related', 'request', 'offer', 'aid_related', 'medical_help',\n",
       "       'medical_products', 'search_and_rescue', 'security', 'military',\n",
       "       'water', 'food', 'shelter', 'clothing', 'money', 'missing_people',\n",
       "       'refugees', 'death', 'other_aid', 'infrastructure_related', 'transport',\n",
       "       'buildings', 'electricity', 'tools', 'hospitals', 'shops',\n",
       "       'aid_centers', 'other_infrastructure', 'weather_related', 'floods',\n",
       "       'storm', 'fire', 'earthquake', 'cold', 'other_weather',\n",
       "       'direct_report'],\n",
       "      dtype='object')"
      ]
     },
     "metadata": {},
     "output_type": "display_data"
    }
   ],
   "source": [
    "# load data from database\n",
    "engine = create_engine(db_path)\n",
    "df = pd.read_sql('select * from Messages', engine)\n",
    "df.drop(columns = ['id', 'original'], inplace = True)\n",
    "X = df[['message', 'genre']]\n",
    "Y = df.loc[:, ~df.columns.isin(X.columns)]\n",
    "display(X.columns)\n",
    "display(Y.columns)"
   ]
  },
  {
   "cell_type": "code",
   "execution_count": 8,
   "metadata": {
    "colab": {
     "base_uri": "https://localhost:8080/",
     "height": 438
    },
    "colab_type": "code",
    "executionInfo": {
     "elapsed": 790,
     "status": "ok",
     "timestamp": 1592264492588,
     "user": {
      "displayName": "Ambreen Haleem",
      "photoUrl": "https://lh3.googleusercontent.com/a-/AOh14GjsIC0qh7HqdDe1fvSRpWhReu4AaIK27b-NLLzRRQ=s64",
      "userId": "06768820983597929615"
     },
     "user_tz": 240
    },
    "id": "WHVeb-xrzt7p",
    "outputId": "42e20fac-0da9-41c5-965d-bb8ecb680775"
   },
   "outputs": [
    {
     "data": {
      "text/plain": [
       "<matplotlib.axes._subplots.AxesSubplot at 0x7f1d88177e10>"
      ]
     },
     "execution_count": 8,
     "metadata": {},
     "output_type": "execute_result"
    },
    {
     "data": {
      "image/png": "[encoded data removed]",
      "text/plain": [
       "<Figure size 720x360 with 1 Axes>"
      ]
     },
     "metadata": {
      "needs_background": "light"
     },
     "output_type": "display_data"
    }
   ],
   "source": [
    "(Y.sum()/Y.shape[0]).plot(kind='bar', figsize = (10, 5))"
   ]
  },
  {
   "cell_type": "code",
   "execution_count": 9,
   "metadata": {
    "colab": {
     "base_uri": "https://localhost:8080/",
     "height": 436
    },
    "colab_type": "code",
    "executionInfo": {
     "elapsed": 910,
     "status": "ok",
     "timestamp": 1592265165429,
     "user": {
      "displayName": "Ambreen Haleem",
      "photoUrl": "https://lh3.googleusercontent.com/a-/AOh14GjsIC0qh7HqdDe1fvSRpWhReu4AaIK27b-NLLzRRQ=s64",
      "userId": "06768820983597929615"
     },
     "user_tz": 240
    },
    "id": "gTFhE5hIZf9c",
    "outputId": "6ea4f5b0-048a-4c4c-c542-0967202c2831"
   },
   "outputs": [
    {
     "data": {
      "text/plain": [
       "<matplotlib.axes._subplots.AxesSubplot at 0x7f1d82cf3d50>"
      ]
     },
     "execution_count": 9,
     "metadata": {},
     "output_type": "execute_result"
    },
    {
     "data": {
      "image/png": "[encoded data removed]",
      "text/plain": [
       "<Figure size 720x360 with 1 Axes>"
      ]
     },
     "metadata": {
      "needs_background": "light"
     },
     "output_type": "display_data"
    }
   ],
   "source": [
    "Y.sum().plot(kind='bar', figsize = (10, 5))"
   ]
  },
  {
   "cell_type": "code",
   "execution_count": 10,
   "metadata": {
    "colab": {
     "base_uri": "https://localhost:8080/",
     "height": 156
    },
    "colab_type": "code",
    "executionInfo": {
     "elapsed": 348,
     "status": "ok",
     "timestamp": 1592264494622,
     "user": {
      "displayName": "Ambreen Haleem",
      "photoUrl": "https://lh3.googleusercontent.com/a-/AOh14GjsIC0qh7HqdDe1fvSRpWhReu4AaIK27b-NLLzRRQ=s64",
      "userId": "06768820983597929615"
     },
     "user_tz": 240
    },
    "id": "qgj5P86Wzt7r",
    "outputId": "e69e25e8-ef78-4d34-e6e8-fd887e8a68bc"
   },
   "outputs": [
    {
     "data": {
      "text/plain": [
       "array(['Weather update - a cold front from Cuba that could pass over Haiti',\n",
       "       'Is the Hurricane over or is it not over',\n",
       "       'Looking for someone but no name', ...,\n",
       "       \"Proshika, operating in Cox's Bazar municipality and 5 other unions, Ramu and Chokoria, assessment, 5 kg rice, 1,5 kg lentils to 700 families.\",\n",
       "       'Some 2,000 women protesting against the conduct of the elections were teargassed as they tried to converge on the local electoral commission offices in the southern oil city of Port Harcourt.',\n",
       "       'A radical shift in thinking came about as a result of this meeting, recognizing that HIV/AIDS is at the core of the humanitarian crisis and identifying the crisis itself as a function of the HIV/AIDS pandemic.'],\n",
       "      dtype=object)"
      ]
     },
     "execution_count": 10,
     "metadata": {
      "tags": []
     },
     "output_type": "execute_result"
    }
   ],
   "source": [
    "df.loc[df.related == 1, 'message'].values"
   ]
  },
  {
   "cell_type": "markdown",
   "metadata": {
    "colab_type": "text",
    "id": "BzbCxMs3zt7t"
   },
   "source": [
    "### 2. Write a tokenization function to process your text data"
   ]
  },
  {
   "cell_type": "code",
   "execution_count": 10,
   "metadata": {
    "colab": {},
    "colab_type": "code",
    "id": "XfTP_t7Vzt7u"
   },
   "outputs": [],
   "source": [
    "def tokenize(text):\n",
    "    url_regex = 'http[s]?://(?:[a-zA-Z]|[0-9]|[$-_@.&+]|[!*\\(\\),]|(?:%[0-9a-fA-F][0-9a-fA-F]))+'\n",
    "    text = re.sub(url_regex, 'urlplaceholder', text)    \n",
    "    lemmatizer = WordNetLemmatizer()\n",
    "    tokens = word_tokenize(text)\n",
    "    tokens = [lemmatizer.lemmatize(x).lower().strip() for x in tokens]\n",
    "    return tokens"
   ]
  },
  {
   "cell_type": "markdown",
   "metadata": {
    "colab_type": "text",
    "id": "U5545AnNzt7x"
   },
   "source": [
    "### 3. Build a machine learning pipeline\n",
    "This machine pipeline should take in the `message` column as input and output classification results on the other 36 categories in the dataset. You may find the [MultiOutputClassifier](http://scikit-learn.org/stable/modules/generated/sklearn.multioutput.MultiOutputClassifier.html) helpful for predicting multiple target variables."
   ]
  },
  {
   "cell_type": "code",
   "execution_count": 0,
   "metadata": {
    "colab": {},
    "colab_type": "code",
    "id": "rr2-5OvLzt7x"
   },
   "outputs": [],
   "source": [
    "pipeline1 = Pipeline([\n",
    "    ('vect', CountVectorizer(tokenizer = tokenize)),\n",
    "    ('tfidf', TfidfTransformer()),\n",
    "    ('classifier', MultiOutputClassifier(AdaBoostClassifier()))\n",
    "])"
   ]
  },
  {
   "cell_type": "markdown",
   "metadata": {
    "colab_type": "text",
    "id": "xzIGSJaBzt7z"
   },
   "source": [
    "### 4. Train pipeline\n",
    "- Split data into train and test sets\n",
    "- Train pipeline"
   ]
  },
  {
   "cell_type": "code",
   "execution_count": 11,
   "metadata": {
    "colab": {},
    "colab_type": "code",
    "id": "Iuz_Eeopzt70"
   },
   "outputs": [],
   "source": [
    "X_msg = X['message']\n",
    "X_train, X_test, y_train, y_test = train_test_split(X_msg, Y)"
   ]
  },
  {
   "cell_type": "code",
   "execution_count": 14,
   "metadata": {
    "colab": {
     "base_uri": "https://localhost:8080/",
     "height": 408
    },
    "colab_type": "code",
    "executionInfo": {
     "elapsed": 141413,
     "status": "ok",
     "timestamp": 1592264640833,
     "user": {
      "displayName": "Ambreen Haleem",
      "photoUrl": "https://lh3.googleusercontent.com/a-/AOh14GjsIC0qh7HqdDe1fvSRpWhReu4AaIK27b-NLLzRRQ=s64",
      "userId": "06768820983597929615"
     },
     "user_tz": 240
    },
    "id": "bAk3qnYZzt71",
    "outputId": "2e1950ea-0bd3-443c-de04-209ecd828a42"
   },
   "outputs": [
    {
     "data": {
      "text/plain": [
       "Pipeline(memory=None,\n",
       "         steps=[('vect',\n",
       "                 CountVectorizer(analyzer='word', binary=False,\n",
       "                                 decode_error='strict',\n",
       "                                 dtype=<class 'numpy.int64'>, encoding='utf-8',\n",
       "                                 input='content', lowercase=True, max_df=1.0,\n",
       "                                 max_features=None, min_df=1,\n",
       "                                 ngram_range=(1, 1), preprocessor=None,\n",
       "                                 stop_words=None, strip_accents=None,\n",
       "                                 token_pattern='(?u)\\\\b\\\\w\\\\w+\\\\b',\n",
       "                                 tokenizer=<function tokenize at 0x7f74dd60a7b8>,\n",
       "                                 vocabulary=None)),\n",
       "                ('tfidf',\n",
       "                 TfidfTransformer(norm='l2', smooth_idf=True,\n",
       "                                  sublinear_tf=False, use_idf=True)),\n",
       "                ('classifier',\n",
       "                 MultiOutputClassifier(estimator=AdaBoostClassifier(algorithm='SAMME.R',\n",
       "                                                                    base_estimator=None,\n",
       "                                                                    learning_rate=1.0,\n",
       "                                                                    n_estimators=50,\n",
       "                                                                    random_state=None),\n",
       "                                       n_jobs=None))],\n",
       "         verbose=False)"
      ]
     },
     "execution_count": 14,
     "metadata": {
      "tags": []
     },
     "output_type": "execute_result"
    }
   ],
   "source": [
    "pipeline1.fit(X_train, y_train)"
   ]
  },
  {
   "cell_type": "markdown",
   "metadata": {
    "colab_type": "text",
    "id": "1ZOhWt42zt73"
   },
   "source": [
    "### 5. Test your model\n",
    "Report the f1 score, precision and recall for each output category of the dataset. You can do this by iterating through the columns and calling sklearn's `classification_report` on each."
   ]
  },
  {
   "cell_type": "code",
   "execution_count": 0,
   "metadata": {
    "colab": {},
    "colab_type": "code",
    "id": "6HfzE4yIzt74"
   },
   "outputs": [],
   "source": [
    "y_pred1 = pipeline1.predict(X_test)"
   ]
  },
  {
   "cell_type": "code",
   "execution_count": 12,
   "metadata": {
    "colab": {},
    "colab_type": "code",
    "id": "EpXwn2CCzt76",
    "scrolled": false
   },
   "outputs": [],
   "source": [
    "def labeled_classification_report(y, y_pred):\n",
    "    '''display output of classification_report for each label'''\n",
    "    cols = y.columns.values\n",
    "    for i in range(0, len(cols)):\n",
    "        print(f'{cols[i]}')\n",
    "        print('-'*55)\n",
    "        c_pred = y_pred1[:,i]\n",
    "        c_true = y[cols[i]]\n",
    "        print(classification_report(c_true, c_pred))\n"
   ]
  },
  {
   "cell_type": "code",
   "execution_count": 13,
   "metadata": {
    "colab": {},
    "colab_type": "code",
    "id": "B1-Z0Vkjzt79"
   },
   "outputs": [],
   "source": [
    "def recall_f1_auc(y_true, predicted):\n",
    "    '''Calculates recall, f1, and auc scores'''\n",
    "    \n",
    "    f1 = f1_score(y_test, predicted, average = 'macro')\n",
    "    auc = roc_auc_score(y_true, predicted, multi_class = 'ovo', average ='macro')\n",
    "    recall = recall_score(y_true, predicted, average = 'macro')\n",
    "    return f1, auc, recall"
   ]
  },
  {
   "cell_type": "code",
   "execution_count": 14,
   "metadata": {
    "colab": {},
    "colab_type": "code",
    "id": "YoV-xLZQzt7-"
   },
   "outputs": [],
   "source": [
    "def display_scores(y_true, predicted):\n",
    "    '''Display f-1, recall, and AUC scores'''\n",
    "    \n",
    "    f1, auc, recall = recall_f1_auc(y_true, predicted)\n",
    "    display('======================')\n",
    "    display(f'recall score: {recall}')\n",
    "    display(f'f1 score: {f1}')\n",
    "    display(f'AUC score: {auc}')\n",
    "    display('======================')\n"
   ]
  },
  {
   "cell_type": "code",
   "execution_count": 19,
   "metadata": {
    "colab": {
     "base_uri": "https://localhost:8080/",
     "height": 1000
    },
    "colab_type": "code",
    "executionInfo": {
     "elapsed": 796,
     "status": "ok",
     "timestamp": 1592264686553,
     "user": {
      "displayName": "Ambreen Haleem",
      "photoUrl": "https://lh3.googleusercontent.com/a-/AOh14GjsIC0qh7HqdDe1fvSRpWhReu4AaIK27b-NLLzRRQ=s64",
      "userId": "06768820983597929615"
     },
     "user_tz": 240
    },
    "id": "cBmciFiK1yiK",
    "outputId": "e611644b-b740-4a42-d2e3-dae2b5c0de00"
   },
   "outputs": [
    {
     "name": "stdout",
     "output_type": "stream",
     "text": [
      "related\n",
      "-------------------------------------------------------\n",
      "              precision    recall  f1-score   support\n",
      "\n",
      "           0       0.63      0.34      0.44      1570\n",
      "           1       0.82      0.94      0.87      4984\n",
      "\n",
      "    accuracy                           0.79      6554\n",
      "   macro avg       0.72      0.64      0.66      6554\n",
      "weighted avg       0.77      0.79      0.77      6554\n",
      "\n",
      "request\n",
      "-------------------------------------------------------\n",
      "              precision    recall  f1-score   support\n",
      "\n",
      "           0       0.92      0.97      0.94      5465\n",
      "           1       0.78      0.55      0.65      1089\n",
      "\n",
      "    accuracy                           0.90      6554\n",
      "   macro avg       0.85      0.76      0.79      6554\n",
      "weighted avg       0.89      0.90      0.89      6554\n",
      "\n",
      "offer\n",
      "-------------------------------------------------------\n",
      "              precision    recall  f1-score   support\n",
      "\n",
      "           0       1.00      1.00      1.00      6523\n",
      "           1       0.00      0.00      0.00        31\n",
      "\n",
      "    accuracy                           0.99      6554\n",
      "   macro avg       0.50      0.50      0.50      6554\n",
      "weighted avg       0.99      0.99      0.99      6554\n",
      "\n",
      "aid_related\n",
      "-------------------------------------------------------\n",
      "              precision    recall  f1-score   support\n",
      "\n",
      "           0       0.75      0.88      0.81      3838\n",
      "           1       0.77      0.59      0.67      2716\n",
      "\n",
      "    accuracy                           0.76      6554\n",
      "   macro avg       0.76      0.73      0.74      6554\n",
      "weighted avg       0.76      0.76      0.75      6554\n",
      "\n",
      "medical_help\n",
      "-------------------------------------------------------\n",
      "              precision    recall  f1-score   support\n",
      "\n",
      "           0       0.94      0.99      0.96      6022\n",
      "           1       0.61      0.23      0.34       532\n",
      "\n",
      "    accuracy                           0.93      6554\n",
      "   macro avg       0.77      0.61      0.65      6554\n",
      "weighted avg       0.91      0.93      0.91      6554\n",
      "\n",
      "medical_products\n",
      "-------------------------------------------------------\n",
      "              precision    recall  f1-score   support\n",
      "\n",
      "           0       0.97      0.99      0.98      6229\n",
      "           1       0.68      0.36      0.47       325\n",
      "\n",
      "    accuracy                           0.96      6554\n",
      "   macro avg       0.82      0.68      0.72      6554\n",
      "weighted avg       0.95      0.96      0.95      6554\n",
      "\n",
      "search_and_rescue\n",
      "-------------------------------------------------------\n",
      "              precision    recall  f1-score   support\n",
      "\n",
      "           0       0.98      1.00      0.99      6389\n",
      "           1       0.56      0.18      0.27       165\n",
      "\n",
      "    accuracy                           0.98      6554\n",
      "   macro avg       0.77      0.59      0.63      6554\n",
      "weighted avg       0.97      0.98      0.97      6554\n",
      "\n",
      "security\n",
      "-------------------------------------------------------\n",
      "              precision    recall  f1-score   support\n",
      "\n",
      "           0       0.98      1.00      0.99      6442\n",
      "           1       0.16      0.03      0.05       112\n",
      "\n",
      "    accuracy                           0.98      6554\n",
      "   macro avg       0.57      0.51      0.52      6554\n",
      "weighted avg       0.97      0.98      0.97      6554\n",
      "\n",
      "military\n",
      "-------------------------------------------------------\n",
      "              precision    recall  f1-score   support\n",
      "\n",
      "           0       0.98      0.99      0.98      6320\n",
      "           1       0.61      0.35      0.44       234\n",
      "\n",
      "    accuracy                           0.97      6554\n",
      "   macro avg       0.79      0.67      0.71      6554\n",
      "weighted avg       0.96      0.97      0.96      6554\n",
      "\n",
      "water\n",
      "-------------------------------------------------------\n",
      "              precision    recall  f1-score   support\n",
      "\n",
      "           0       0.97      0.98      0.98      6126\n",
      "           1       0.74      0.63      0.68       428\n",
      "\n",
      "    accuracy                           0.96      6554\n",
      "   macro avg       0.86      0.81      0.83      6554\n",
      "weighted avg       0.96      0.96      0.96      6554\n",
      "\n",
      "food\n",
      "-------------------------------------------------------\n",
      "              precision    recall  f1-score   support\n",
      "\n",
      "           0       0.97      0.98      0.97      5859\n",
      "           1       0.82      0.72      0.77       695\n",
      "\n",
      "    accuracy                           0.95      6554\n",
      "   macro avg       0.89      0.85      0.87      6554\n",
      "weighted avg       0.95      0.95      0.95      6554\n",
      "\n",
      "shelter\n",
      "-------------------------------------------------------\n",
      "              precision    recall  f1-score   support\n",
      "\n",
      "           0       0.95      0.99      0.97      5955\n",
      "           1       0.79      0.53      0.63       599\n",
      "\n",
      "    accuracy                           0.94      6554\n",
      "   macro avg       0.87      0.76      0.80      6554\n",
      "weighted avg       0.94      0.94      0.94      6554\n",
      "\n",
      "clothing\n",
      "-------------------------------------------------------\n",
      "              precision    recall  f1-score   support\n",
      "\n",
      "           0       0.99      1.00      0.99      6451\n",
      "           1       0.73      0.52      0.61       103\n",
      "\n",
      "    accuracy                           0.99      6554\n",
      "   macro avg       0.86      0.76      0.80      6554\n",
      "weighted avg       0.99      0.99      0.99      6554\n",
      "\n",
      "money\n",
      "-------------------------------------------------------\n",
      "              precision    recall  f1-score   support\n",
      "\n",
      "           0       0.98      1.00      0.99      6401\n",
      "           1       0.62      0.33      0.43       153\n",
      "\n",
      "    accuracy                           0.98      6554\n",
      "   macro avg       0.80      0.66      0.71      6554\n",
      "weighted avg       0.98      0.98      0.98      6554\n",
      "\n",
      "missing_people\n",
      "-------------------------------------------------------\n",
      "              precision    recall  f1-score   support\n",
      "\n",
      "           0       0.99      1.00      0.99      6464\n",
      "           1       0.53      0.19      0.28        90\n",
      "\n",
      "    accuracy                           0.99      6554\n",
      "   macro avg       0.76      0.59      0.64      6554\n",
      "weighted avg       0.98      0.99      0.98      6554\n",
      "\n",
      "refugees\n",
      "-------------------------------------------------------\n",
      "              precision    recall  f1-score   support\n",
      "\n",
      "           0       0.97      0.99      0.98      6334\n",
      "           1       0.56      0.20      0.30       220\n",
      "\n",
      "    accuracy                           0.97      6554\n",
      "   macro avg       0.77      0.60      0.64      6554\n",
      "weighted avg       0.96      0.97      0.96      6554\n",
      "\n",
      "death\n",
      "-------------------------------------------------------\n",
      "              precision    recall  f1-score   support\n",
      "\n",
      "           0       0.98      0.99      0.98      6260\n",
      "           1       0.75      0.52      0.61       294\n",
      "\n",
      "    accuracy                           0.97      6554\n",
      "   macro avg       0.86      0.75      0.80      6554\n",
      "weighted avg       0.97      0.97      0.97      6554\n",
      "\n",
      "other_aid\n",
      "-------------------------------------------------------\n",
      "              precision    recall  f1-score   support\n",
      "\n",
      "           0       0.88      0.98      0.93      5683\n",
      "           1       0.51      0.13      0.21       871\n",
      "\n",
      "    accuracy                           0.87      6554\n",
      "   macro avg       0.70      0.56      0.57      6554\n",
      "weighted avg       0.83      0.87      0.83      6554\n",
      "\n",
      "infrastructure_related\n",
      "-------------------------------------------------------\n",
      "              precision    recall  f1-score   support\n",
      "\n",
      "           0       0.94      0.99      0.97      6139\n",
      "           1       0.41      0.08      0.13       415\n",
      "\n",
      "    accuracy                           0.93      6554\n",
      "   macro avg       0.67      0.54      0.55      6554\n",
      "weighted avg       0.91      0.93      0.91      6554\n",
      "\n",
      "transport\n",
      "-------------------------------------------------------\n",
      "              precision    recall  f1-score   support\n",
      "\n",
      "           0       0.96      0.99      0.98      6258\n",
      "           1       0.62      0.22      0.32       296\n",
      "\n",
      "    accuracy                           0.96      6554\n",
      "   macro avg       0.79      0.60      0.65      6554\n",
      "weighted avg       0.95      0.96      0.95      6554\n",
      "\n",
      "buildings\n",
      "-------------------------------------------------------\n",
      "              precision    recall  f1-score   support\n",
      "\n",
      "           0       0.97      0.99      0.98      6214\n",
      "           1       0.62      0.38      0.47       340\n",
      "\n",
      "    accuracy                           0.96      6554\n",
      "   macro avg       0.79      0.68      0.72      6554\n",
      "weighted avg       0.95      0.96      0.95      6554\n",
      "\n",
      "electricity\n",
      "-------------------------------------------------------\n",
      "              precision    recall  f1-score   support\n",
      "\n",
      "           0       0.99      0.99      0.99      6440\n",
      "           1       0.49      0.30      0.37       114\n",
      "\n",
      "    accuracy                           0.98      6554\n",
      "   macro avg       0.74      0.65      0.68      6554\n",
      "weighted avg       0.98      0.98      0.98      6554\n",
      "\n",
      "tools\n",
      "-------------------------------------------------------\n",
      "              precision    recall  f1-score   support\n",
      "\n",
      "           0       0.99      1.00      1.00      6514\n",
      "           1       0.00      0.00      0.00        40\n",
      "\n",
      "    accuracy                           0.99      6554\n",
      "   macro avg       0.50      0.50      0.50      6554\n",
      "weighted avg       0.99      0.99      0.99      6554\n",
      "\n",
      "hospitals\n",
      "-------------------------------------------------------\n",
      "              precision    recall  f1-score   support\n",
      "\n",
      "           0       0.99      1.00      0.99      6484\n",
      "           1       0.38      0.11      0.18        70\n",
      "\n",
      "    accuracy                           0.99      6554\n",
      "   macro avg       0.69      0.56      0.59      6554\n",
      "weighted avg       0.98      0.99      0.99      6554\n",
      "\n",
      "shops\n",
      "-------------------------------------------------------\n",
      "              precision    recall  f1-score   support\n",
      "\n",
      "           0       1.00      1.00      1.00      6526\n",
      "           1       0.00      0.00      0.00        28\n",
      "\n",
      "    accuracy                           1.00      6554\n",
      "   macro avg       0.50      0.50      0.50      6554\n",
      "weighted avg       0.99      1.00      0.99      6554\n",
      "\n",
      "aid_centers\n",
      "-------------------------------------------------------\n",
      "              precision    recall  f1-score   support\n",
      "\n",
      "           0       0.99      1.00      0.99      6478\n",
      "           1       0.26      0.09      0.14        76\n",
      "\n",
      "    accuracy                           0.99      6554\n",
      "   macro avg       0.62      0.54      0.56      6554\n",
      "weighted avg       0.98      0.99      0.98      6554\n",
      "\n",
      "other_infrastructure\n",
      "-------------------------------------------------------\n",
      "              precision    recall  f1-score   support\n",
      "\n",
      "           0       0.96      0.99      0.98      6270\n",
      "           1       0.43      0.09      0.15       284\n",
      "\n",
      "    accuracy                           0.96      6554\n",
      "   macro avg       0.70      0.54      0.56      6554\n",
      "weighted avg       0.94      0.96      0.94      6554\n",
      "\n",
      "weather_related\n",
      "-------------------------------------------------------\n",
      "              precision    recall  f1-score   support\n",
      "\n",
      "           0       0.88      0.96      0.92      4712\n",
      "           1       0.86      0.66      0.75      1842\n",
      "\n",
      "    accuracy                           0.87      6554\n",
      "   macro avg       0.87      0.81      0.83      6554\n",
      "weighted avg       0.87      0.87      0.87      6554\n",
      "\n",
      "floods\n",
      "-------------------------------------------------------\n",
      "              precision    recall  f1-score   support\n",
      "\n",
      "           0       0.96      0.99      0.97      6005\n",
      "           1       0.85      0.51      0.64       549\n",
      "\n",
      "    accuracy                           0.95      6554\n",
      "   macro avg       0.91      0.75      0.81      6554\n",
      "weighted avg       0.95      0.95      0.95      6554\n",
      "\n",
      "storm\n",
      "-------------------------------------------------------\n",
      "              precision    recall  f1-score   support\n",
      "\n",
      "           0       0.95      0.98      0.97      5917\n",
      "           1       0.76      0.53      0.62       637\n",
      "\n",
      "    accuracy                           0.94      6554\n",
      "   macro avg       0.86      0.76      0.80      6554\n",
      "weighted avg       0.93      0.94      0.93      6554\n",
      "\n",
      "fire\n",
      "-------------------------------------------------------\n",
      "              precision    recall  f1-score   support\n",
      "\n",
      "           0       0.99      1.00      0.99      6476\n",
      "           1       0.62      0.26      0.36        78\n",
      "\n",
      "    accuracy                           0.99      6554\n",
      "   macro avg       0.81      0.63      0.68      6554\n",
      "weighted avg       0.99      0.99      0.99      6554\n",
      "\n",
      "earthquake\n",
      "-------------------------------------------------------\n",
      "              precision    recall  f1-score   support\n",
      "\n",
      "           0       0.97      0.99      0.98      5943\n",
      "           1       0.87      0.72      0.79       611\n",
      "\n",
      "    accuracy                           0.96      6554\n",
      "   macro avg       0.92      0.86      0.88      6554\n",
      "weighted avg       0.96      0.96      0.96      6554\n",
      "\n",
      "cold\n",
      "-------------------------------------------------------\n",
      "              precision    recall  f1-score   support\n",
      "\n",
      "           0       0.99      1.00      0.99      6438\n",
      "           1       0.72      0.36      0.48       116\n",
      "\n",
      "    accuracy                           0.99      6554\n",
      "   macro avg       0.86      0.68      0.74      6554\n",
      "weighted avg       0.98      0.99      0.98      6554\n",
      "\n",
      "other_weather\n",
      "-------------------------------------------------------\n",
      "              precision    recall  f1-score   support\n",
      "\n",
      "           0       0.96      0.99      0.97      6246\n",
      "           1       0.43      0.14      0.21       308\n",
      "\n",
      "    accuracy                           0.95      6554\n",
      "   macro avg       0.69      0.57      0.59      6554\n",
      "weighted avg       0.93      0.95      0.94      6554\n",
      "\n",
      "direct_report\n",
      "-------------------------------------------------------\n",
      "              precision    recall  f1-score   support\n",
      "\n",
      "           0       0.88      0.96      0.92      5275\n",
      "           1       0.74      0.45      0.56      1279\n",
      "\n",
      "    accuracy                           0.86      6554\n",
      "   macro avg       0.81      0.71      0.74      6554\n",
      "weighted avg       0.85      0.86      0.85      6554\n",
      "\n"
     ]
    }
   ],
   "source": [
    "labeled_classification_report(y_test, y_pred1)"
   ]
  },
  {
   "cell_type": "code",
   "execution_count": 20,
   "metadata": {
    "colab": {
     "base_uri": "https://localhost:8080/",
     "height": 102
    },
    "colab_type": "code",
    "executionInfo": {
     "elapsed": 541,
     "status": "ok",
     "timestamp": 1592264693035,
     "user": {
      "displayName": "Ambreen Haleem",
      "photoUrl": "https://lh3.googleusercontent.com/a-/AOh14GjsIC0qh7HqdDe1fvSRpWhReu4AaIK27b-NLLzRRQ=s64",
      "userId": "06768820983597929615"
     },
     "user_tz": 240
    },
    "id": "LB9Bljaqzt8A",
    "outputId": "bce33465-89c3-4d6e-8b58-10a7a6aff86f"
   },
   "outputs": [
    {
     "data": {
      "text/plain": [
       "'======================'"
      ]
     },
     "metadata": {
      "tags": []
     },
     "output_type": "display_data"
    },
    {
     "data": {
      "text/plain": [
       "'recall score: 0.34025104915931625'"
      ]
     },
     "metadata": {
      "tags": []
     },
     "output_type": "display_data"
    },
    {
     "data": {
      "text/plain": [
       "'f1 score: 0.41292866170390474'"
      ]
     },
     "metadata": {
      "tags": []
     },
     "output_type": "display_data"
    },
    {
     "data": {
      "text/plain": [
       "'AUC score: 0.6541710367744484'"
      ]
     },
     "metadata": {
      "tags": []
     },
     "output_type": "display_data"
    },
    {
     "data": {
      "text/plain": [
       "'======================'"
      ]
     },
     "metadata": {
      "tags": []
     },
     "output_type": "display_data"
    }
   ],
   "source": [
    "display_scores(y_test.values, y_pred1)"
   ]
  },
  {
   "cell_type": "markdown",
   "metadata": {
    "colab_type": "text",
    "id": "Hnkb5HbGzt8B"
   },
   "source": [
    "### 6. Improve your model\n",
    "Use grid search to find better parameters. "
   ]
  },
  {
   "cell_type": "code",
   "execution_count": 0,
   "metadata": {
    "colab": {},
    "colab_type": "code",
    "id": "NbOwieB8zt8C"
   },
   "outputs": [],
   "source": [
    "def evaluate_classifiers():\n",
    "    \"\"\"Evaluate different classifiers with default settings\"\"\"\n",
    "\n",
    "    vect = CountVectorizer(tokenizer = tokenize)\n",
    "    tfidf = TfidfTransformer()\n",
    "    y_true = y_test.values\n",
    "    perf = []\n",
    "    y_preds_all = dict()\n",
    "    score_names = ['f-1', 'AUC', 'recall']\n",
    "    \n",
    "    candidates = [\n",
    "        ['XGBoost', MultiOutputClassifier(XGBClassifier(scale_pos_weight=10))],\n",
    "        ['AdaBoost', MultiOutputClassifier(AdaBoostClassifier())],\n",
    "        ['RandomForest', RandomForestClassifier()],\n",
    "        ['ExtraTreesClassifier', ExtraTreesClassifier()],\n",
    "    ]\n",
    "\n",
    "    for i in range(len(candidates)):\n",
    "        p = Pipeline([\n",
    "            ('vect', vect),\n",
    "            ('tfidf', tfidf),\n",
    "            ('classifier', candidates[i][1])\n",
    "        ])\n",
    "    \n",
    "        candidates[i][1] = p.fit(X_train, y_train)\n",
    "        pred = p.predict(X_test)\n",
    "        y_preds_all[candidates[i][0]] = pred\n",
    "        f1, auc, recall = recall_f1_auc(y_true, pred)\n",
    "        perf.append([f1, auc, recall])\n",
    "    \n",
    "    return score_names, perf, candidates"
   ]
  },
  {
   "cell_type": "code",
   "execution_count": 0,
   "metadata": {
    "colab": {},
    "colab_type": "code",
    "id": "BebVR74Vzt8E"
   },
   "outputs": [],
   "source": [
    "score_names, perf, candidates = evaluate_classifiers()"
   ]
  },
  {
   "cell_type": "code",
   "execution_count": 32,
   "metadata": {
    "colab": {
     "base_uri": "https://localhost:8080/",
     "height": 370
    },
    "colab_type": "code",
    "executionInfo": {
     "elapsed": 471,
     "status": "ok",
     "timestamp": 1592266375830,
     "user": {
      "displayName": "Ambreen Haleem",
      "photoUrl": "https://lh3.googleusercontent.com/a-/AOh14GjsIC0qh7HqdDe1fvSRpWhReu4AaIK27b-NLLzRRQ=s64",
      "userId": "06768820983597929615"
     },
     "user_tz": 240
    },
    "id": "OIBiwvZrzt8F",
    "outputId": "93c537fd-34cc-419e-fac8-4033eacee3bf"
   },
   "outputs": [
    {
     "data": {
      "text/plain": [
       "<matplotlib.axes._subplots.AxesSubplot at 0x7f74d393b748>"
      ]
     },
     "execution_count": 32,
     "metadata": {
      "tags": []
     },
     "output_type": "execute_result"
    },
    {
     "data": {
      "image/png": "[encoded data removed]",
      "text/plain": [
       "<Figure size 432x288 with 1 Axes>"
      ]
     },
     "metadata": {
      "needs_background": "light",
      "tags": []
     },
     "output_type": "display_data"
    }
   ],
   "source": [
    "import matplotlib.pyplot as plt\n",
    "\n",
    "score_df = pd.DataFrame(perf, columns = score_names, index = list(map(lambda x:  x[0], candidates)))\n",
    "score_df.plot(kind = 'bar')"
   ]
  },
  {
   "cell_type": "code",
   "execution_count": 33,
   "metadata": {
    "colab": {
     "base_uri": "https://localhost:8080/",
     "height": 173
    },
    "colab_type": "code",
    "executionInfo": {
     "elapsed": 387,
     "status": "ok",
     "timestamp": 1592266388201,
     "user": {
      "displayName": "Ambreen Haleem",
      "photoUrl": "https://lh3.googleusercontent.com/a-/AOh14GjsIC0qh7HqdDe1fvSRpWhReu4AaIK27b-NLLzRRQ=s64",
      "userId": "06768820983597929615"
     },
     "user_tz": 240
    },
    "id": "kVxS_21HBjyz",
    "outputId": "b2f9b30d-ce63-49e1-ed29-a94c39a16560"
   },
   "outputs": [
    {
     "data": {
      "text/html": [
       "<div>\n",
       "<style scoped>\n",
       "    .dataframe tbody tr th:only-of-type {\n",
       "        vertical-align: middle;\n",
       "    }\n",
       "\n",
       "    .dataframe tbody tr th {\n",
       "        vertical-align: top;\n",
       "    }\n",
       "\n",
       "    .dataframe thead th {\n",
       "        text-align: right;\n",
       "    }\n",
       "</style>\n",
       "<table border=\"1\" class=\"dataframe\">\n",
       "  <thead>\n",
       "    <tr style=\"text-align: right;\">\n",
       "      <th></th>\n",
       "      <th>f-1</th>\n",
       "      <th>AUC</th>\n",
       "      <th>recall</th>\n",
       "    </tr>\n",
       "  </thead>\n",
       "  <tbody>\n",
       "    <tr>\n",
       "      <th>XGBoost</th>\n",
       "      <td>0.466564</td>\n",
       "      <td>0.710436</td>\n",
       "      <td>0.545243</td>\n",
       "    </tr>\n",
       "    <tr>\n",
       "      <th>AdaBoost</th>\n",
       "      <td>0.412929</td>\n",
       "      <td>0.654171</td>\n",
       "      <td>0.340251</td>\n",
       "    </tr>\n",
       "    <tr>\n",
       "      <th>RandomForest</th>\n",
       "      <td>0.152861</td>\n",
       "      <td>0.546069</td>\n",
       "      <td>0.115454</td>\n",
       "    </tr>\n",
       "    <tr>\n",
       "      <th>ExtraTreesClassifier</th>\n",
       "      <td>0.149802</td>\n",
       "      <td>0.544823</td>\n",
       "      <td>0.110879</td>\n",
       "    </tr>\n",
       "  </tbody>\n",
       "</table>\n",
       "</div>"
      ],
      "text/plain": [
       "                           f-1       AUC    recall\n",
       "XGBoost               0.466564  0.710436  0.545243\n",
       "AdaBoost              0.412929  0.654171  0.340251\n",
       "RandomForest          0.152861  0.546069  0.115454\n",
       "ExtraTreesClassifier  0.149802  0.544823  0.110879"
      ]
     },
     "execution_count": 33,
     "metadata": {
      "tags": []
     },
     "output_type": "execute_result"
    }
   ],
   "source": [
    "score_df"
   ]
  },
  {
   "cell_type": "markdown",
   "metadata": {
    "colab_type": "text",
    "id": "99mmB9qUzt8H"
   },
   "source": [
    "Looks like XGBoost has better score overall."
   ]
  },
  {
   "cell_type": "code",
   "execution_count": 15,
   "metadata": {
    "colab": {},
    "colab_type": "code",
    "id": "xmJOV4dvzt8I"
   },
   "outputs": [],
   "source": [
    "selected_pipeline = Pipeline([\n",
    "    ('vect', CountVectorizer(tokenizer = tokenize)),\n",
    "    ('tfidf', TfidfTransformer()),\n",
    "    ('classifier', MultiOutputClassifier(XGBClassifier()))\n",
    "])"
   ]
  },
  {
   "cell_type": "code",
   "execution_count": 16,
   "metadata": {
    "colab": {
     "base_uri": "https://localhost:8080/",
     "height": 1000
    },
    "colab_type": "code",
    "executionInfo": {
     "elapsed": 407,
     "status": "ok",
     "timestamp": 1592266440184,
     "user": {
      "displayName": "Ambreen Haleem",
      "photoUrl": "https://lh3.googleusercontent.com/a-/AOh14GjsIC0qh7HqdDe1fvSRpWhReu4AaIK27b-NLLzRRQ=s64",
      "userId": "06768820983597929615"
     },
     "user_tz": 240
    },
    "id": "7VpliM95zt8J",
    "outputId": "d3d31af4-5c9f-4d6d-a18f-84162ba614ce"
   },
   "outputs": [
    {
     "data": {
      "text/plain": [
       "{'memory': None,\n",
       " 'steps': [('vect',\n",
       "   CountVectorizer(tokenizer=<function tokenize at 0x7f1d80f950e0>)),\n",
       "  ('tfidf', TfidfTransformer()),\n",
       "  ('classifier',\n",
       "   MultiOutputClassifier(estimator=XGBClassifier(base_score=None, booster=None,\n",
       "                                                 colsample_bylevel=None,\n",
       "                                                 colsample_bynode=None,\n",
       "                                                 colsample_bytree=None, gamma=None,\n",
       "                                                 gpu_id=None,\n",
       "                                                 importance_type='gain',\n",
       "                                                 interaction_constraints=None,\n",
       "                                                 learning_rate=None,\n",
       "                                                 max_delta_step=None,\n",
       "                                                 max_depth=None,\n",
       "                                                 min_child_weight=None,\n",
       "                                                 missing=nan,\n",
       "                                                 monotone_constraints=None,\n",
       "                                                 n_estimators=100, n_jobs=None,\n",
       "                                                 num_parallel_tree=None,\n",
       "                                                 random_state=None, reg_alpha=None,\n",
       "                                                 reg_lambda=None,\n",
       "                                                 scale_pos_weight=None,\n",
       "                                                 subsample=None, tree_method=None,\n",
       "                                                 validate_parameters=False,\n",
       "                                                 verbosity=None)))],\n",
       " 'verbose': False,\n",
       " 'vect': CountVectorizer(tokenizer=<function tokenize at 0x7f1d80f950e0>),\n",
       " 'tfidf': TfidfTransformer(),\n",
       " 'classifier': MultiOutputClassifier(estimator=XGBClassifier(base_score=None, booster=None,\n",
       "                                               colsample_bylevel=None,\n",
       "                                               colsample_bynode=None,\n",
       "                                               colsample_bytree=None, gamma=None,\n",
       "                                               gpu_id=None,\n",
       "                                               importance_type='gain',\n",
       "                                               interaction_constraints=None,\n",
       "                                               learning_rate=None,\n",
       "                                               max_delta_step=None,\n",
       "                                               max_depth=None,\n",
       "                                               min_child_weight=None,\n",
       "                                               missing=nan,\n",
       "                                               monotone_constraints=None,\n",
       "                                               n_estimators=100, n_jobs=None,\n",
       "                                               num_parallel_tree=None,\n",
       "                                               random_state=None, reg_alpha=None,\n",
       "                                               reg_lambda=None,\n",
       "                                               scale_pos_weight=None,\n",
       "                                               subsample=None, tree_method=None,\n",
       "                                               validate_parameters=False,\n",
       "                                               verbosity=None)),\n",
       " 'vect__analyzer': 'word',\n",
       " 'vect__binary': False,\n",
       " 'vect__decode_error': 'strict',\n",
       " 'vect__dtype': numpy.int64,\n",
       " 'vect__encoding': 'utf-8',\n",
       " 'vect__input': 'content',\n",
       " 'vect__lowercase': True,\n",
       " 'vect__max_df': 1.0,\n",
       " 'vect__max_features': None,\n",
       " 'vect__min_df': 1,\n",
       " 'vect__ngram_range': (1, 1),\n",
       " 'vect__preprocessor': None,\n",
       " 'vect__stop_words': None,\n",
       " 'vect__strip_accents': None,\n",
       " 'vect__token_pattern': '(?u)\\\\b\\\\w\\\\w+\\\\b',\n",
       " 'vect__tokenizer': <function __main__.tokenize(text)>,\n",
       " 'vect__vocabulary': None,\n",
       " 'tfidf__norm': 'l2',\n",
       " 'tfidf__smooth_idf': True,\n",
       " 'tfidf__sublinear_tf': False,\n",
       " 'tfidf__use_idf': True,\n",
       " 'classifier__estimator__objective': 'binary:logistic',\n",
       " 'classifier__estimator__base_score': None,\n",
       " 'classifier__estimator__booster': None,\n",
       " 'classifier__estimator__colsample_bylevel': None,\n",
       " 'classifier__estimator__colsample_bynode': None,\n",
       " 'classifier__estimator__colsample_bytree': None,\n",
       " 'classifier__estimator__gamma': None,\n",
       " 'classifier__estimator__gpu_id': None,\n",
       " 'classifier__estimator__importance_type': 'gain',\n",
       " 'classifier__estimator__interaction_constraints': None,\n",
       " 'classifier__estimator__learning_rate': None,\n",
       " 'classifier__estimator__max_delta_step': None,\n",
       " 'classifier__estimator__max_depth': None,\n",
       " 'classifier__estimator__min_child_weight': None,\n",
       " 'classifier__estimator__missing': nan,\n",
       " 'classifier__estimator__monotone_constraints': None,\n",
       " 'classifier__estimator__n_estimators': 100,\n",
       " 'classifier__estimator__n_jobs': None,\n",
       " 'classifier__estimator__num_parallel_tree': None,\n",
       " 'classifier__estimator__random_state': None,\n",
       " 'classifier__estimator__reg_alpha': None,\n",
       " 'classifier__estimator__reg_lambda': None,\n",
       " 'classifier__estimator__scale_pos_weight': None,\n",
       " 'classifier__estimator__subsample': None,\n",
       " 'classifier__estimator__tree_method': None,\n",
       " 'classifier__estimator__validate_parameters': False,\n",
       " 'classifier__estimator__verbosity': None,\n",
       " 'classifier__estimator': XGBClassifier(base_score=None, booster=None, colsample_bylevel=None,\n",
       "               colsample_bynode=None, colsample_bytree=None, gamma=None,\n",
       "               gpu_id=None, importance_type='gain', interaction_constraints=None,\n",
       "               learning_rate=None, max_delta_step=None, max_depth=None,\n",
       "               min_child_weight=None, missing=nan, monotone_constraints=None,\n",
       "               n_estimators=100, n_jobs=None, num_parallel_tree=None,\n",
       "               random_state=None, reg_alpha=None, reg_lambda=None,\n",
       "               scale_pos_weight=None, subsample=None, tree_method=None,\n",
       "               validate_parameters=False, verbosity=None),\n",
       " 'classifier__n_jobs': None}"
      ]
     },
     "execution_count": 16,
     "metadata": {},
     "output_type": "execute_result"
    }
   ],
   "source": [
    "selected_pipeline.get_params()"
   ]
  },
  {
   "cell_type": "code",
   "execution_count": 17,
   "metadata": {
    "colab": {},
    "colab_type": "code",
    "id": "meAqZUohzt8L"
   },
   "outputs": [],
   "source": [
    "def get_best_classifier(selected_pipeline, parameters):\n",
    "\n",
    "    cv = GridSearchCV(selected_pipeline, \n",
    "                      param_grid = parameters, \n",
    "                      verbose = 2, n_jobs = 8,\n",
    "                      scoring = ['recall_macro', 'f1_macro'], \n",
    "                      refit = 'recall_macro')\n",
    "    return cv"
   ]
  },
  {
   "cell_type": "code",
   "execution_count": 18,
   "metadata": {
    "colab": {},
    "colab_type": "code",
    "id": "t4ZIODibzt8N"
   },
   "outputs": [],
   "source": [
    "parameters = {\n",
    "    'classifier__estimator__scale_pos_weight':[5, 10, 20, 100],\n",
    "    'classifier__estimator__learning_rate': [0.1, 0.2, 0.4, 0.6, 0.8, 1],\n",
    "    'tfidf__use_idf': [True, False],\n",
    "    }\n",
    "\n",
    "cv = get_best_classifier(selected_pipeline, parameters)"
   ]
  },
  {
   "cell_type": "code",
   "execution_count": 19,
   "metadata": {
    "colab": {
     "base_uri": "https://localhost:8080/",
     "height": 105
    },
    "colab_type": "code",
    "id": "Bsg2BruFzt8Q",
    "outputId": "24882b18-cbf3-4f74-e5ac-cfcd8febb224"
   },
   "outputs": [
    {
     "name": "stdout",
     "output_type": "stream",
     "text": [
      "Fitting 5 folds for each of 48 candidates, totalling 240 fits\n"
     ]
    },
    {
     "name": "stderr",
     "output_type": "stream",
     "text": [
      "[Parallel(n_jobs=8)]: Using backend LokyBackend with 8 concurrent workers.\n",
      "[Parallel(n_jobs=8)]: Done  25 tasks      | elapsed: 53.6min\n",
      "[Parallel(n_jobs=8)]: Done 146 tasks      | elapsed: 273.1min\n",
      "[Parallel(n_jobs=8)]: Done 240 out of 240 | elapsed: 428.8min finished\n"
     ]
    },
    {
     "name": "stdout",
     "output_type": "stream",
     "text": [
      "CPU times: user 32min 16s, sys: 1min 21s, total: 33min 38s\n",
      "Wall time: 7h 13min 11s\n"
     ]
    },
    {
     "data": {
      "text/plain": [
       "GridSearchCV(estimator=Pipeline(steps=[('vect',\n",
       "                                        CountVectorizer(tokenizer=<function tokenize at 0x7f1d80f950e0>)),\n",
       "                                       ('tfidf', TfidfTransformer()),\n",
       "                                       ('classifier',\n",
       "                                        MultiOutputClassifier(estimator=XGBClassifier(base_score=None,\n",
       "                                                                                      booster=None,\n",
       "                                                                                      colsample_bylevel=None,\n",
       "                                                                                      colsample_bynode=None,\n",
       "                                                                                      colsample_bytree=None,\n",
       "                                                                                      gamma=None,\n",
       "                                                                                      gpu_id=None,\n",
       "                                                                                      importance_type='gain',\n",
       "                                                                                      interacti...\n",
       "                                                                                      reg_lambda=None,\n",
       "                                                                                      scale_pos_weight=None,\n",
       "                                                                                      subsample=None,\n",
       "                                                                                      tree_method=None,\n",
       "                                                                                      validate_parameters=False,\n",
       "                                                                                      verbosity=None)))]),\n",
       "             n_jobs=8,\n",
       "             param_grid={'classifier__estimator__learning_rate': [0.1, 0.2, 0.4,\n",
       "                                                                  0.6, 0.8, 1],\n",
       "                         'classifier__estimator__scale_pos_weight': [5, 10, 20,\n",
       "                                                                     100],\n",
       "                         'tfidf__use_idf': [True, False]},\n",
       "             refit='recall_macro', scoring=['recall_macro', 'f1_macro'],\n",
       "             verbose=2)"
      ]
     },
     "execution_count": 19,
     "metadata": {},
     "output_type": "execute_result"
    }
   ],
   "source": [
    "%%time\n",
    "\n",
    "cv.fit(X_train, y_train)"
   ]
  },
  {
   "cell_type": "code",
   "execution_count": 20,
   "metadata": {
    "colab": {},
    "colab_type": "code",
    "id": "yPZyuiJVzt8S"
   },
   "outputs": [
    {
     "data": {
      "text/plain": [
       "Pipeline(steps=[('vect',\n",
       "                 CountVectorizer(tokenizer=<function tokenize at 0x7f1d80f950e0>)),\n",
       "                ('tfidf', TfidfTransformer(use_idf=False)),\n",
       "                ('classifier',\n",
       "                 MultiOutputClassifier(estimator=XGBClassifier(base_score=None,\n",
       "                                                               booster=None,\n",
       "                                                               colsample_bylevel=None,\n",
       "                                                               colsample_bynode=None,\n",
       "                                                               colsample_bytree=None,\n",
       "                                                               gamma=None,\n",
       "                                                               gpu_id=None,\n",
       "                                                               importance_type='gain',\n",
       "                                                               interaction_constraints=None,\n",
       "                                                               learning_rate=0.1,\n",
       "                                                               max_delta_step=None,\n",
       "                                                               max_depth=None,\n",
       "                                                               min_child_weight=None,\n",
       "                                                               missing=nan,\n",
       "                                                               monotone_constraints=None,\n",
       "                                                               n_estimators=100,\n",
       "                                                               n_jobs=None,\n",
       "                                                               num_parallel_tree=None,\n",
       "                                                               random_state=None,\n",
       "                                                               reg_alpha=None,\n",
       "                                                               reg_lambda=None,\n",
       "                                                               scale_pos_weight=100,\n",
       "                                                               subsample=None,\n",
       "                                                               tree_method=None,\n",
       "                                                               validate_parameters=False,\n",
       "                                                               verbosity=None)))])"
      ]
     },
     "execution_count": 20,
     "metadata": {},
     "output_type": "execute_result"
    }
   ],
   "source": [
    "cv.best_estimator_"
   ]
  },
  {
   "cell_type": "code",
   "execution_count": 21,
   "metadata": {
    "colab": {
     "base_uri": "https://localhost:8080/",
     "height": 164
    },
    "colab_type": "code",
    "executionInfo": {
     "elapsed": 585,
     "status": "error",
     "timestamp": 1592264455771,
     "user": {
      "displayName": "Ambreen Haleem",
      "photoUrl": "https://lh3.googleusercontent.com/a-/AOh14GjsIC0qh7HqdDe1fvSRpWhReu4AaIK27b-NLLzRRQ=s64",
      "userId": "06768820983597929615"
     },
     "user_tz": 240
    },
    "id": "8E2e4JS4zt8U",
    "outputId": "c1581db5-240d-4cfb-f172-1c82b4dc9e00"
   },
   "outputs": [
    {
     "data": {
      "text/plain": [
       "{'classifier__estimator__learning_rate': 0.1,\n",
       " 'classifier__estimator__scale_pos_weight': 100,\n",
       " 'tfidf__use_idf': False}"
      ]
     },
     "execution_count": 21,
     "metadata": {},
     "output_type": "execute_result"
    }
   ],
   "source": [
    "cv.best_params_"
   ]
  },
  {
   "cell_type": "markdown",
   "metadata": {
    "colab_type": "text",
    "id": "HDe38b5Hzt8W"
   },
   "source": [
    "### 7. Test your model\n",
    "Show the accuracy, precision, and recall of the tuned model.  \n",
    "\n",
    "Since this project focuses on code quality, process, and  pipelines, there is no minimum performance metric needed to pass. However, make sure to fine tune your models for accuracy, precision and recall to make your project stand out - especially for your portfolio!"
   ]
  },
  {
   "cell_type": "code",
   "execution_count": 23,
   "metadata": {
    "colab": {},
    "colab_type": "code",
    "id": "_mhakA4wzt8W"
   },
   "outputs": [],
   "source": [
    "y_pred2 = cv.predict(X_test)"
   ]
  },
  {
   "cell_type": "code",
   "execution_count": 24,
   "metadata": {
    "colab": {},
    "colab_type": "code",
    "id": "PP_qGJMuzt8Y",
    "outputId": "c72bf6fe-7ea3-40e4-8d05-01c09bc3b772"
   },
   "outputs": [
    {
     "data": {
      "text/plain": [
       "'======================'"
      ]
     },
     "metadata": {},
     "output_type": "display_data"
    },
    {
     "data": {
      "text/plain": [
       "'recall score: 0.7223810428341978'"
      ]
     },
     "metadata": {},
     "output_type": "display_data"
    },
    {
     "data": {
      "text/plain": [
       "'f1 score: 0.2591083141214426'"
      ]
     },
     "metadata": {},
     "output_type": "display_data"
    },
    {
     "data": {
      "text/plain": [
       "'AUC score: 0.6554076162938897'"
      ]
     },
     "metadata": {},
     "output_type": "display_data"
    },
    {
     "data": {
      "text/plain": [
       "'======================'"
      ]
     },
     "metadata": {},
     "output_type": "display_data"
    }
   ],
   "source": [
    "display_scores(y_test.values, y_pred2)"
   ]
  },
  {
   "cell_type": "markdown",
   "metadata": {
    "colab_type": "text",
    "id": "9_dNh-wSzt8Z"
   },
   "source": [
    "### 8. Try improving your model further. Here are a few ideas:\n",
    "* try other machine learning algorithms\n",
    "* add other features besides the TF-IDF"
   ]
  },
  {
   "cell_type": "code",
   "execution_count": 25,
   "metadata": {
    "colab": {},
    "colab_type": "code",
    "id": "naQNHNvkzt8a"
   },
   "outputs": [],
   "source": [
    "class LengthExtractor(BaseEstimator, TransformerMixin):\n",
    "    '''Length exrtactor custom transformer'''\n",
    "    def length(self, text):\n",
    "        return len(text)\n",
    "\n",
    "    def fit(self, x, y = None):\n",
    "        return self\n",
    "    \n",
    "    def transform(self, X):\n",
    "        len_list = pd.Series(X).apply(self.length)\n",
    "        return pd.DataFrame(len_list)"
   ]
  },
  {
   "cell_type": "code",
   "execution_count": 26,
   "metadata": {
    "colab": {},
    "colab_type": "code",
    "id": "whxKVoDzzt8c"
   },
   "outputs": [],
   "source": [
    "vect = CountVectorizer(tokenizer = tokenize)\n",
    "tfidf = TfidfTransformer()\n",
    "\n",
    "pipeline_extended = Pipeline([\n",
    "    ('features', FeatureUnion([\n",
    "        ('text', Pipeline([\n",
    "            ('vect', vect),\n",
    "            ('tfidf', tfidf)\n",
    "        ])),\n",
    "        ('length', LengthExtractor())\n",
    "    ])),\n",
    "    ('classifier', MultiOutputClassifier(XGBClassifier(learning_rate =  0.1, scale_pos_weight = 100)))\n",
    "])"
   ]
  },
  {
   "cell_type": "code",
   "execution_count": 27,
   "metadata": {
    "colab": {},
    "colab_type": "code",
    "id": "ccqDjAoYzt8d",
    "outputId": "39a10cdb-5a2c-4364-a582-722157a393bd"
   },
   "outputs": [
    {
     "data": {
      "text/plain": [
       "Pipeline(steps=[('features',\n",
       "                 FeatureUnion(transformer_list=[('text',\n",
       "                                                 Pipeline(steps=[('vect',\n",
       "                                                                  CountVectorizer(tokenizer=<function tokenize at 0x7f1d80f950e0>)),\n",
       "                                                                 ('tfidf',\n",
       "                                                                  TfidfTransformer())])),\n",
       "                                                ('length',\n",
       "                                                 LengthExtractor())])),\n",
       "                ('classifier',\n",
       "                 MultiOutputClassifier(estimator=XGBClassifier(base_score=None,\n",
       "                                                               booster=None,\n",
       "                                                               colsample_bylevel=None,\n",
       "                                                               colsample_bynode=Non...\n",
       "                                                               importance_type='gain',\n",
       "                                                               interaction_constraints=None,\n",
       "                                                               learning_rate=0.1,\n",
       "                                                               max_delta_step=None,\n",
       "                                                               max_depth=None,\n",
       "                                                               min_child_weight=None,\n",
       "                                                               missing=nan,\n",
       "                                                               monotone_constraints=None,\n",
       "                                                               n_estimators=100,\n",
       "                                                               n_jobs=None,\n",
       "                                                               num_parallel_tree=None,\n",
       "                                                               random_state=None,\n",
       "                                                               reg_alpha=None,\n",
       "                                                               reg_lambda=None,\n",
       "                                                               scale_pos_weight=100,\n",
       "                                                               subsample=None,\n",
       "                                                               tree_method=None,\n",
       "                                                               validate_parameters=False,\n",
       "                                                               verbosity=None)))])"
      ]
     },
     "execution_count": 27,
     "metadata": {},
     "output_type": "execute_result"
    }
   ],
   "source": [
    "pipeline_extended.fit(X_train, y_train)"
   ]
  },
  {
   "cell_type": "code",
   "execution_count": 28,
   "metadata": {
    "colab": {},
    "colab_type": "code",
    "id": "qORdxZJdzt8f"
   },
   "outputs": [],
   "source": [
    "pred_extended = pipeline_extended.predict(X_test)"
   ]
  },
  {
   "cell_type": "code",
   "execution_count": 29,
   "metadata": {
    "colab": {},
    "colab_type": "code",
    "id": "VTDoUCq7zt8h",
    "outputId": "23d45e17-3494-4583-edb7-6478192ec08e"
   },
   "outputs": [
    {
     "data": {
      "text/plain": [
       "'======================'"
      ]
     },
     "metadata": {},
     "output_type": "display_data"
    },
    {
     "data": {
      "text/plain": [
       "'recall score: 0.7160603774636203'"
      ]
     },
     "metadata": {},
     "output_type": "display_data"
    },
    {
     "data": {
      "text/plain": [
       "'f1 score: 0.260001465943571'"
      ]
     },
     "metadata": {},
     "output_type": "display_data"
    },
    {
     "data": {
      "text/plain": [
       "'AUC score: 0.6559797063125958'"
      ]
     },
     "metadata": {},
     "output_type": "display_data"
    },
    {
     "data": {
      "text/plain": [
       "'======================'"
      ]
     },
     "metadata": {},
     "output_type": "display_data"
    }
   ],
   "source": [
    "display_scores(y_test.values, pred_extended)"
   ]
  },
  {
   "cell_type": "code",
   "execution_count": 0,
   "metadata": {
    "colab": {},
    "colab_type": "code",
    "id": "dRZGzhG5zt8i",
    "outputId": "c78b21d0-4ba8-4f9b-c356-7c43f8575c66"
   },
   "outputs": [
    {
     "data": {
      "text/plain": [
       "{'memory': None,\n",
       " 'steps': [('features', FeatureUnion(transformer_list=[('text',\n",
       "                                   Pipeline(steps=[('vect',\n",
       "                                                    CountVectorizer(tokenizer=<function tokenize at 0x7f8e8298ddd0>)),\n",
       "                                                   ('tfidf',\n",
       "                                                    TfidfTransformer())])),\n",
       "                                  ('length', LengthExtractor())])),\n",
       "  ('classifier', MultiOutputClassifier(estimator=AdaBoostClassifier()))],\n",
       " 'verbose': False,\n",
       " 'features': FeatureUnion(transformer_list=[('text',\n",
       "                                 Pipeline(steps=[('vect',\n",
       "                                                  CountVectorizer(tokenizer=<function tokenize at 0x7f8e8298ddd0>)),\n",
       "                                                 ('tfidf',\n",
       "                                                  TfidfTransformer())])),\n",
       "                                ('length', LengthExtractor())]),\n",
       " 'classifier': MultiOutputClassifier(estimator=AdaBoostClassifier()),\n",
       " 'features__n_jobs': None,\n",
       " 'features__transformer_list': [('text',\n",
       "   Pipeline(steps=[('vect',\n",
       "                    CountVectorizer(tokenizer=<function tokenize at 0x7f8e8298ddd0>)),\n",
       "                   ('tfidf', TfidfTransformer())])),\n",
       "  ('length', LengthExtractor())],\n",
       " 'features__transformer_weights': None,\n",
       " 'features__verbose': False,\n",
       " 'features__text': Pipeline(steps=[('vect',\n",
       "                  CountVectorizer(tokenizer=<function tokenize at 0x7f8e8298ddd0>)),\n",
       "                 ('tfidf', TfidfTransformer())]),\n",
       " 'features__length': LengthExtractor(),\n",
       " 'features__text__memory': None,\n",
       " 'features__text__steps': [('vect',\n",
       "   CountVectorizer(tokenizer=<function tokenize at 0x7f8e8298ddd0>)),\n",
       "  ('tfidf', TfidfTransformer())],\n",
       " 'features__text__verbose': False,\n",
       " 'features__text__vect': CountVectorizer(tokenizer=<function tokenize at 0x7f8e8298ddd0>),\n",
       " 'features__text__tfidf': TfidfTransformer(),\n",
       " 'features__text__vect__analyzer': 'word',\n",
       " 'features__text__vect__binary': False,\n",
       " 'features__text__vect__decode_error': 'strict',\n",
       " 'features__text__vect__dtype': numpy.int64,\n",
       " 'features__text__vect__encoding': 'utf-8',\n",
       " 'features__text__vect__input': 'content',\n",
       " 'features__text__vect__lowercase': True,\n",
       " 'features__text__vect__max_df': 1.0,\n",
       " 'features__text__vect__max_features': None,\n",
       " 'features__text__vect__min_df': 1,\n",
       " 'features__text__vect__ngram_range': (1, 1),\n",
       " 'features__text__vect__preprocessor': None,\n",
       " 'features__text__vect__stop_words': None,\n",
       " 'features__text__vect__strip_accents': None,\n",
       " 'features__text__vect__token_pattern': '(?u)\\\\b\\\\w\\\\w+\\\\b',\n",
       " 'features__text__vect__tokenizer': <function __main__.tokenize(text)>,\n",
       " 'features__text__vect__vocabulary': None,\n",
       " 'features__text__tfidf__norm': 'l2',\n",
       " 'features__text__tfidf__smooth_idf': True,\n",
       " 'features__text__tfidf__sublinear_tf': False,\n",
       " 'features__text__tfidf__use_idf': True,\n",
       " 'classifier__estimator__algorithm': 'SAMME.R',\n",
       " 'classifier__estimator__base_estimator': None,\n",
       " 'classifier__estimator__learning_rate': 1.0,\n",
       " 'classifier__estimator__n_estimators': 50,\n",
       " 'classifier__estimator__random_state': None,\n",
       " 'classifier__estimator': AdaBoostClassifier(),\n",
       " 'classifier__n_jobs': None}"
      ]
     },
     "execution_count": 48,
     "metadata": {
      "tags": []
     },
     "output_type": "execute_result"
    }
   ],
   "source": [
    "pipeline_extended.get_params()"
   ]
  },
  {
   "cell_type": "code",
   "execution_count": 0,
   "metadata": {
    "colab": {},
    "colab_type": "code",
    "id": "mfMucJ0Bzt8k"
   },
   "outputs": [],
   "source": [
    "parameters = {\n",
    "    'classifier__estimator__learning_rate': [0.00001, 0.000001, 0.2, 0.4, 0.6, 0.8, 1],\n",
    "    'features__text__tfidf__use_idf': [True, False],\n",
    "    'classifier__estimator__algorithm':['SAMME', 'SAMME.R'],\n",
    "    'classifier__estimator__n_estimators': [5, 10, 15, 20, 30, 40, 50],\n",
    "    }\n",
    "cv2 = get_best_classifier(pipeline_extended, parameters)"
   ]
  },
  {
   "cell_type": "code",
   "execution_count": 0,
   "metadata": {
    "colab": {},
    "colab_type": "code",
    "id": "64GmmOfVzt8m",
    "outputId": "77f3577b-4b57-4d06-b4b9-b6378349eaf1"
   },
   "outputs": [
    {
     "name": "stdout",
     "output_type": "stream",
     "text": [
      "Fitting 5 folds for each of 196 candidates, totalling 980 fits\n"
     ]
    },
    {
     "name": "stderr",
     "output_type": "stream",
     "text": [
      "[Parallel(n_jobs=-1)]: Using backend LokyBackend with 8 concurrent workers.\n",
      "[Parallel(n_jobs=-1)]: Done  25 tasks      | elapsed:  3.9min\n",
      "[Parallel(n_jobs=-1)]: Done 146 tasks      | elapsed: 37.1min\n",
      "[Parallel(n_jobs=-1)]: Done 349 tasks      | elapsed: 84.0min\n",
      "[Parallel(n_jobs=-1)]: Done 632 tasks      | elapsed: 147.0min\n",
      "[Parallel(n_jobs=-1)]: Done 980 out of 980 | elapsed: 226.8min finished\n"
     ]
    },
    {
     "data": {
      "text/plain": [
       "GridSearchCV(estimator=Pipeline(steps=[('features',\n",
       "                                        FeatureUnion(transformer_list=[('text',\n",
       "                                                                        Pipeline(steps=[('vect',\n",
       "                                                                                         CountVectorizer(tokenizer=<function tokenize at 0x7f8e8298ddd0>)),\n",
       "                                                                                        ('tfidf',\n",
       "                                                                                         TfidfTransformer())])),\n",
       "                                                                       ('length',\n",
       "                                                                        LengthExtractor())])),\n",
       "                                       ('classifier',\n",
       "                                        MultiOutputClassifier(estimator=AdaBoostClassifier()))]),\n",
       "             n_jobs=-1,\n",
       "             param_grid={'classifier__estimator__algorithm': ['SAMME',\n",
       "                                                              'SAMME.R'],\n",
       "                         'classifier__estimator__learning_rate': [1e-05, 1e-06,\n",
       "                                                                  0.2, 0.4, 0.6,\n",
       "                                                                  0.8, 1],\n",
       "                         'classifier__estimator__n_estimators': [5, 10, 15, 20,\n",
       "                                                                 30, 40, 50],\n",
       "                         'features__text__tfidf__use_idf': [True, False]},\n",
       "             refit='recall_macro', scoring=['recall_macro', 'f1_macro'],\n",
       "             verbose=2)"
      ]
     },
     "execution_count": 136,
     "metadata": {
      "tags": []
     },
     "output_type": "execute_result"
    }
   ],
   "source": [
    "cv2.fit(X_train, y_train)"
   ]
  },
  {
   "cell_type": "code",
   "execution_count": 0,
   "metadata": {
    "colab": {},
    "colab_type": "code",
    "id": "ZbyaPRZFzt8o"
   },
   "outputs": [],
   "source": [
    "pred_ext = cv2.predict(X_test)"
   ]
  },
  {
   "cell_type": "code",
   "execution_count": 0,
   "metadata": {
    "colab": {},
    "colab_type": "code",
    "id": "SJCeROp4zt8p",
    "outputId": "dfafba29-c331-4a5b-9087-1c9094c9c7df"
   },
   "outputs": [
    {
     "data": {
      "text/plain": [
       "'f1-score: 0.6153685580320022'"
      ]
     },
     "metadata": {
      "tags": []
     },
     "output_type": "display_data"
    },
    {
     "data": {
      "text/plain": [
       "'AUC score: 0.6845988517837202'"
      ]
     },
     "metadata": {
      "tags": []
     },
     "output_type": "display_data"
    }
   ],
   "source": [
    "display_scores(y_test.values, pred_ext)"
   ]
  },
  {
   "cell_type": "markdown",
   "metadata": {
    "colab_type": "text",
    "id": "4IXmSJ4tzt8r"
   },
   "source": [
    "### 9. Export your model as a pickle file"
   ]
  },
  {
   "cell_type": "code",
   "execution_count": 22,
   "metadata": {
    "colab": {},
    "colab_type": "code",
    "id": "jhz_Jaiozt8r"
   },
   "outputs": [],
   "source": [
    "s = pickle.dump(cv, open('models/classifier_xgboost.pkl', 'wb'))"
   ]
  },
  {
   "cell_type": "markdown",
   "metadata": {
    "colab_type": "text",
    "id": "liQ_mEhpzt8t"
   },
   "source": [
    "### 10. Use this notebook to complete `train.py`\n",
    "Use the template file attached in the Resources folder to write a script that runs the steps above to create a database and export a model based on a new dataset specified by the user."
   ]
  },
  {
   "cell_type": "code",
   "execution_count": 0,
   "metadata": {
    "colab": {},
    "colab_type": "code",
    "id": "caSa-5pFzt8u"
   },
   "outputs": [],
   "source": []
  }
 ],
 "metadata": {
  "colab": {
   "collapsed_sections": [
    "HDe38b5Hzt8W",
    "9_dNh-wSzt8Z",
    "4IXmSJ4tzt8r",
    "liQ_mEhpzt8t"
   ],
   "name": "ML Pipeline Preparation.ipynb",
   "provenance": [],
   "toc_visible": true
  },
  "kernelspec": {
   "display_name": "Python 3",
   "language": "python",
   "name": "python3"
  },
  "language_info": {
   "codemirror_mode": {
    "name": "ipython",
    "version": 3
   },
   "file_extension": ".py",
   "mimetype": "text/x-python",
   "name": "python",
   "nbconvert_exporter": "python",
   "pygments_lexer": "ipython3",
   "version": "3.7.7"
  }
 },
 "nbformat": 4,
 "nbformat_minor": 1
}
