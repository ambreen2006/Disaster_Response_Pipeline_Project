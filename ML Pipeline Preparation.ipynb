{
 "cells": [
  {
   "cell_type": "markdown",
   "metadata": {},
   "source": [
    "# ML Pipeline Preparation\n",
    "Follow the instructions below to help you create your ML pipeline.\n",
    "### 1. Import libraries and load data from database.\n",
    "- Import Python libraries\n",
    "- Load dataset from database with [`read_sql_table`](https://pandas.pydata.org/pandas-docs/stable/generated/pandas.read_sql_table.html)\n",
    "- Define feature and target variables X and Y"
   ]
  },
  {
   "cell_type": "code",
   "execution_count": 88,
   "metadata": {},
   "outputs": [
    {
     "name": "stderr",
     "output_type": "stream",
     "text": [
      "[nltk_data] Downloading package punkt to /home/ambreen/nltk_data...\n",
      "[nltk_data]   Package punkt is already up-to-date!\n",
      "[nltk_data] Downloading package wordnet to /home/ambreen/nltk_data...\n",
      "[nltk_data]   Package wordnet is already up-to-date!\n"
     ]
    },
    {
     "data": {
      "text/plain": [
       "True"
      ]
     },
     "execution_count": 88,
     "metadata": {},
     "output_type": "execute_result"
    }
   ],
   "source": [
    "# import libraries\n",
    "import re\n",
    "import numpy as np\n",
    "import pandas as pd\n",
    "import pickle\n",
    "\n",
    "from sklearn.metrics import roc_auc_score\n",
    "from sklearn.metrics import f1_score, recall_score\n",
    "from sklearn.model_selection import GridSearchCV\n",
    "from sklearn.metrics import classification_report\n",
    "from sklearn.pipeline import Pipeline, FeatureUnion\n",
    "from sklearn.ensemble import RandomForestClassifier, AdaBoostClassifier, ExtraTreesClassifier\n",
    "from sklearn.tree import DecisionTreeClassifier\n",
    "from sklearn.multioutput import MultiOutputClassifier\n",
    "from sklearn.model_selection import train_test_split\n",
    "from sklearn.feature_extraction.text import CountVectorizer, TfidfTransformer\n",
    "from sklearn.base import BaseEstimator, TransformerMixin\n",
    "\n",
    "from sqlalchemy import create_engine\n",
    "\n",
    "import nltk\n",
    "from nltk.tokenize import word_tokenize\n",
    "from nltk.stem import WordNetLemmatizer\n",
    "nltk.download(['punkt', 'wordnet'])"
   ]
  },
  {
   "cell_type": "code",
   "execution_count": 2,
   "metadata": {},
   "outputs": [
    {
     "name": "stdout",
     "output_type": "stream",
     "text": [
      "The scikit-learn version is 0.23.1.\n"
     ]
    }
   ],
   "source": [
    "import sklearn\n",
    "print('The scikit-learn version is {}.'.format(sklearn.__version__))"
   ]
  },
  {
   "cell_type": "code",
   "execution_count": 89,
   "metadata": {},
   "outputs": [
    {
     "data": {
      "text/plain": [
       "Index(['message', 'genre'], dtype='object')"
      ]
     },
     "metadata": {},
     "output_type": "display_data"
    },
    {
     "data": {
      "text/plain": [
       "Index(['related', 'request', 'offer', 'aid_related', 'medical_help',\n",
       "       'medical_products', 'search_and_rescue', 'security', 'military',\n",
       "       'water', 'food', 'shelter', 'clothing', 'money', 'missing_people',\n",
       "       'refugees', 'death', 'other_aid', 'infrastructure_related', 'transport',\n",
       "       'buildings', 'electricity', 'tools', 'hospitals', 'shops',\n",
       "       'aid_centers', 'other_infrastructure', 'weather_related', 'floods',\n",
       "       'storm', 'fire', 'earthquake', 'cold', 'other_weather',\n",
       "       'direct_report'],\n",
       "      dtype='object')"
      ]
     },
     "metadata": {},
     "output_type": "display_data"
    }
   ],
   "source": [
    "# load data from database\n",
    "engine = create_engine('sqlite:///data/DisasterResponse.db')\n",
    "df = pd.read_sql('select * from Messages', engine)\n",
    "df.drop(columns = ['id', 'original'], inplace = True)\n",
    "X = df[['message', 'genre']]\n",
    "Y = df.loc[:, ~df.columns.isin(X.columns)]\n",
    "display(X.columns)\n",
    "display(Y.columns)"
   ]
  },
  {
   "cell_type": "code",
   "execution_count": 90,
   "metadata": {},
   "outputs": [
    {
     "data": {
      "text/plain": [
       "<matplotlib.axes._subplots.AxesSubplot at 0x7f8e701d0d50>"
      ]
     },
     "execution_count": 90,
     "metadata": {},
     "output_type": "execute_result"
    },
    {
     "data": {
      "image/png": "[encoded data removed]",
      "text/plain": [
       "<Figure size 720x360 with 1 Axes>"
      ]
     },
     "metadata": {
      "needs_background": "light"
     },
     "output_type": "display_data"
    }
   ],
   "source": [
    "(Y.sum()/Y.shape[0]).plot(kind='bar', figsize = (10, 5))"
   ]
  },
  {
   "cell_type": "code",
   "execution_count": 91,
   "metadata": {},
   "outputs": [
    {
     "data": {
      "text/plain": [
       "array(['Weather update - a cold front from Cuba that could pass over Haiti',\n",
       "       'Is the Hurricane over or is it not over',\n",
       "       'Looking for someone but no name', ...,\n",
       "       \"Proshika, operating in Cox's Bazar municipality and 5 other unions, Ramu and Chokoria, assessment, 5 kg rice, 1,5 kg lentils to 700 families.\",\n",
       "       'Some 2,000 women protesting against the conduct of the elections were teargassed as they tried to converge on the local electoral commission offices in the southern oil city of Port Harcourt.',\n",
       "       'A radical shift in thinking came about as a result of this meeting, recognizing that HIV/AIDS is at the core of the humanitarian crisis and identifying the crisis itself as a function of the HIV/AIDS pandemic.'],\n",
       "      dtype=object)"
      ]
     },
     "execution_count": 91,
     "metadata": {},
     "output_type": "execute_result"
    }
   ],
   "source": [
    "df.loc[df.related == 1, 'message'].values"
   ]
  },
  {
   "cell_type": "markdown",
   "metadata": {},
   "source": [
    "### 2. Write a tokenization function to process your text data"
   ]
  },
  {
   "cell_type": "code",
   "execution_count": 92,
   "metadata": {},
   "outputs": [],
   "source": [
    "def tokenize(text):\n",
    "    url_regex = 'http[s]?://(?:[a-zA-Z]|[0-9]|[$-_@.&+]|[!*\\(\\),]|(?:%[0-9a-fA-F][0-9a-fA-F]))+'\n",
    "    text = re.sub(url_regex, 'urlplaceholder', text)    \n",
    "    lemmatizer = WordNetLemmatizer()\n",
    "    tokens = word_tokenize(text)\n",
    "    tokens = [lemmatizer.lemmatize(x).lower().strip() for x in tokens]\n",
    "    return tokens"
   ]
  },
  {
   "cell_type": "markdown",
   "metadata": {},
   "source": [
    "### 3. Build a machine learning pipeline\n",
    "This machine pipeline should take in the `message` column as input and output classification results on the other 36 categories in the dataset. You may find the [MultiOutputClassifier](http://scikit-learn.org/stable/modules/generated/sklearn.multioutput.MultiOutputClassifier.html) helpful for predicting multiple target variables."
   ]
  },
  {
   "cell_type": "code",
   "execution_count": 93,
   "metadata": {},
   "outputs": [],
   "source": [
    "pipeline1 = Pipeline([\n",
    "    ('vect', CountVectorizer(tokenizer = tokenize)),\n",
    "    ('tfidf', TfidfTransformer()),\n",
    "    ('classifier', MultiOutputClassifier(AdaBoostClassifier()))\n",
    "])"
   ]
  },
  {
   "cell_type": "markdown",
   "metadata": {},
   "source": [
    "### 4. Train pipeline\n",
    "- Split data into train and test sets\n",
    "- Train pipeline"
   ]
  },
  {
   "cell_type": "code",
   "execution_count": 94,
   "metadata": {},
   "outputs": [],
   "source": [
    "X_msg = X['message']\n",
    "X_train, X_test, y_train, y_test = train_test_split(X_msg, Y)"
   ]
  },
  {
   "cell_type": "code",
   "execution_count": 95,
   "metadata": {},
   "outputs": [
    {
     "data": {
      "text/plain": [
       "Pipeline(steps=[('vect',\n",
       "                 CountVectorizer(tokenizer=<function tokenize at 0x7f8e6ee09e60>)),\n",
       "                ('tfidf', TfidfTransformer()),\n",
       "                ('classifier',\n",
       "                 MultiOutputClassifier(estimator=AdaBoostClassifier()))])"
      ]
     },
     "execution_count": 95,
     "metadata": {},
     "output_type": "execute_result"
    }
   ],
   "source": [
    "pipeline1.fit(X_train, y_train)"
   ]
  },
  {
   "cell_type": "markdown",
   "metadata": {},
   "source": [
    "### 5. Test your model\n",
    "Report the f1 score, precision and recall for each output category of the dataset. You can do this by iterating through the columns and calling sklearn's `classification_report` on each."
   ]
  },
  {
   "cell_type": "code",
   "execution_count": 96,
   "metadata": {},
   "outputs": [],
   "source": [
    "y_pred1 = pipeline1.predict(X_test)"
   ]
  },
  {
   "cell_type": "code",
   "execution_count": 97,
   "metadata": {
    "scrolled": false
   },
   "outputs": [
    {
     "name": "stdout",
     "output_type": "stream",
     "text": [
      "related\n",
      "-------------------------------------------------------\n",
      "              precision    recall  f1-score   support\n",
      "\n",
      "           0       0.63      0.33      0.43      1511\n",
      "           1       0.82      0.94      0.88      5043\n",
      "\n",
      "    accuracy                           0.80      6554\n",
      "   macro avg       0.72      0.63      0.65      6554\n",
      "weighted avg       0.78      0.80      0.77      6554\n",
      "\n",
      "request\n",
      "-------------------------------------------------------\n",
      "              precision    recall  f1-score   support\n",
      "\n",
      "           0       0.91      0.96      0.93      5392\n",
      "           1       0.76      0.55      0.64      1162\n",
      "\n",
      "    accuracy                           0.89      6554\n",
      "   macro avg       0.83      0.76      0.79      6554\n",
      "weighted avg       0.88      0.89      0.88      6554\n",
      "\n",
      "offer\n",
      "-------------------------------------------------------\n",
      "              precision    recall  f1-score   support\n",
      "\n",
      "           0       1.00      1.00      1.00      6527\n",
      "           1       0.00      0.00      0.00        27\n",
      "\n",
      "    accuracy                           0.99      6554\n",
      "   macro avg       0.50      0.50      0.50      6554\n",
      "weighted avg       0.99      0.99      0.99      6554\n",
      "\n",
      "aid_related\n",
      "-------------------------------------------------------\n",
      "              precision    recall  f1-score   support\n",
      "\n",
      "           0       0.76      0.86      0.81      3847\n",
      "           1       0.75      0.61      0.68      2707\n",
      "\n",
      "    accuracy                           0.76      6554\n",
      "   macro avg       0.76      0.74      0.74      6554\n",
      "weighted avg       0.76      0.76      0.75      6554\n",
      "\n",
      "medical_help\n",
      "-------------------------------------------------------\n",
      "              precision    recall  f1-score   support\n",
      "\n",
      "           0       0.94      0.99      0.96      6018\n",
      "           1       0.62      0.24      0.35       536\n",
      "\n",
      "    accuracy                           0.93      6554\n",
      "   macro avg       0.78      0.62      0.66      6554\n",
      "weighted avg       0.91      0.93      0.91      6554\n",
      "\n",
      "medical_products\n",
      "-------------------------------------------------------\n",
      "              precision    recall  f1-score   support\n",
      "\n",
      "           0       0.97      0.99      0.98      6209\n",
      "           1       0.71      0.35      0.47       345\n",
      "\n",
      "    accuracy                           0.96      6554\n",
      "   macro avg       0.84      0.67      0.73      6554\n",
      "weighted avg       0.95      0.96      0.95      6554\n",
      "\n",
      "search_and_rescue\n",
      "-------------------------------------------------------\n",
      "              precision    recall  f1-score   support\n",
      "\n",
      "           0       0.98      1.00      0.99      6358\n",
      "           1       0.63      0.20      0.30       196\n",
      "\n",
      "    accuracy                           0.97      6554\n",
      "   macro avg       0.80      0.60      0.64      6554\n",
      "weighted avg       0.97      0.97      0.97      6554\n",
      "\n",
      "security\n",
      "-------------------------------------------------------\n",
      "              precision    recall  f1-score   support\n",
      "\n",
      "           0       0.98      1.00      0.99      6448\n",
      "           1       0.29      0.04      0.07       106\n",
      "\n",
      "    accuracy                           0.98      6554\n",
      "   macro avg       0.64      0.52      0.53      6554\n",
      "weighted avg       0.97      0.98      0.98      6554\n",
      "\n",
      "military\n",
      "-------------------------------------------------------\n",
      "              precision    recall  f1-score   support\n",
      "\n",
      "           0       0.98      0.99      0.99      6325\n",
      "           1       0.68      0.37      0.48       229\n",
      "\n",
      "    accuracy                           0.97      6554\n",
      "   macro avg       0.83      0.68      0.73      6554\n",
      "weighted avg       0.97      0.97      0.97      6554\n",
      "\n",
      "water\n",
      "-------------------------------------------------------\n",
      "              precision    recall  f1-score   support\n",
      "\n",
      "           0       0.98      0.98      0.98      6124\n",
      "           1       0.75      0.69      0.72       430\n",
      "\n",
      "    accuracy                           0.96      6554\n",
      "   macro avg       0.87      0.84      0.85      6554\n",
      "weighted avg       0.96      0.96      0.96      6554\n",
      "\n",
      "food\n",
      "-------------------------------------------------------\n",
      "              precision    recall  f1-score   support\n",
      "\n",
      "           0       0.96      0.98      0.97      5815\n",
      "           1       0.79      0.72      0.75       739\n",
      "\n",
      "    accuracy                           0.95      6554\n",
      "   macro avg       0.88      0.85      0.86      6554\n",
      "weighted avg       0.94      0.95      0.95      6554\n",
      "\n",
      "shelter\n",
      "-------------------------------------------------------\n",
      "              precision    recall  f1-score   support\n",
      "\n",
      "           0       0.96      0.98      0.97      5965\n",
      "           1       0.76      0.56      0.64       589\n",
      "\n",
      "    accuracy                           0.94      6554\n",
      "   macro avg       0.86      0.77      0.81      6554\n",
      "weighted avg       0.94      0.94      0.94      6554\n",
      "\n",
      "clothing\n",
      "-------------------------------------------------------\n",
      "              precision    recall  f1-score   support\n",
      "\n",
      "           0       0.99      1.00      0.99      6456\n",
      "           1       0.75      0.34      0.46        98\n",
      "\n",
      "    accuracy                           0.99      6554\n",
      "   macro avg       0.87      0.67      0.73      6554\n",
      "weighted avg       0.99      0.99      0.99      6554\n",
      "\n",
      "money\n",
      "-------------------------------------------------------\n",
      "              precision    recall  f1-score   support\n",
      "\n",
      "           0       0.98      1.00      0.99      6407\n",
      "           1       0.56      0.24      0.33       147\n",
      "\n",
      "    accuracy                           0.98      6554\n",
      "   macro avg       0.77      0.62      0.66      6554\n",
      "weighted avg       0.97      0.98      0.97      6554\n",
      "\n",
      "missing_people\n",
      "-------------------------------------------------------\n",
      "              precision    recall  f1-score   support\n",
      "\n",
      "           0       0.99      1.00      0.99      6471\n",
      "           1       0.67      0.22      0.33        83\n",
      "\n",
      "    accuracy                           0.99      6554\n",
      "   macro avg       0.83      0.61      0.66      6554\n",
      "weighted avg       0.99      0.99      0.99      6554\n",
      "\n",
      "refugees\n",
      "-------------------------------------------------------\n",
      "              precision    recall  f1-score   support\n",
      "\n",
      "           0       0.97      1.00      0.98      6321\n",
      "           1       0.59      0.18      0.27       233\n",
      "\n",
      "    accuracy                           0.97      6554\n",
      "   macro avg       0.78      0.59      0.63      6554\n",
      "weighted avg       0.96      0.97      0.96      6554\n",
      "\n",
      "death\n",
      "-------------------------------------------------------\n",
      "              precision    recall  f1-score   support\n",
      "\n",
      "           0       0.98      0.99      0.98      6245\n",
      "           1       0.73      0.50      0.60       309\n",
      "\n",
      "    accuracy                           0.97      6554\n",
      "   macro avg       0.85      0.75      0.79      6554\n",
      "weighted avg       0.96      0.97      0.96      6554\n",
      "\n",
      "other_aid\n",
      "-------------------------------------------------------\n",
      "              precision    recall  f1-score   support\n",
      "\n",
      "           0       0.89      0.98      0.93      5699\n",
      "           1       0.54      0.17      0.26       855\n",
      "\n",
      "    accuracy                           0.87      6554\n",
      "   macro avg       0.71      0.57      0.60      6554\n",
      "weighted avg       0.84      0.87      0.84      6554\n",
      "\n",
      "infrastructure_related\n",
      "-------------------------------------------------------\n",
      "              precision    recall  f1-score   support\n",
      "\n",
      "           0       0.94      0.99      0.97      6153\n",
      "           1       0.40      0.11      0.18       401\n",
      "\n",
      "    accuracy                           0.94      6554\n",
      "   macro avg       0.67      0.55      0.57      6554\n",
      "weighted avg       0.91      0.94      0.92      6554\n",
      "\n",
      "transport\n",
      "-------------------------------------------------------\n",
      "              precision    recall  f1-score   support\n",
      "\n",
      "           0       0.96      0.99      0.98      6224\n",
      "           1       0.66      0.26      0.37       330\n",
      "\n",
      "    accuracy                           0.96      6554\n",
      "   macro avg       0.81      0.63      0.67      6554\n",
      "weighted avg       0.95      0.96      0.95      6554\n",
      "\n",
      "buildings\n",
      "-------------------------------------------------------\n",
      "              precision    recall  f1-score   support\n",
      "\n",
      "           0       0.97      0.99      0.98      6218\n",
      "           1       0.66      0.41      0.51       336\n",
      "\n",
      "    accuracy                           0.96      6554\n",
      "   macro avg       0.82      0.70      0.74      6554\n",
      "weighted avg       0.95      0.96      0.95      6554\n",
      "\n",
      "electricity\n",
      "-------------------------------------------------------\n",
      "              precision    recall  f1-score   support\n",
      "\n",
      "           0       0.99      0.99      0.99      6438\n",
      "           1       0.47      0.33      0.39       116\n",
      "\n",
      "    accuracy                           0.98      6554\n",
      "   macro avg       0.73      0.66      0.69      6554\n",
      "weighted avg       0.98      0.98      0.98      6554\n",
      "\n",
      "tools\n",
      "-------------------------------------------------------\n",
      "              precision    recall  f1-score   support\n",
      "\n",
      "           0       0.99      1.00      1.00      6510\n",
      "           1       0.33      0.02      0.04        44\n",
      "\n",
      "    accuracy                           0.99      6554\n",
      "   macro avg       0.66      0.51      0.52      6554\n",
      "weighted avg       0.99      0.99      0.99      6554\n",
      "\n",
      "hospitals\n",
      "-------------------------------------------------------\n",
      "              precision    recall  f1-score   support\n",
      "\n",
      "           0       0.99      1.00      1.00      6496\n",
      "           1       0.23      0.05      0.08        58\n",
      "\n",
      "    accuracy                           0.99      6554\n",
      "   macro avg       0.61      0.53      0.54      6554\n",
      "weighted avg       0.98      0.99      0.99      6554\n",
      "\n",
      "shops\n",
      "-------------------------------------------------------\n",
      "              precision    recall  f1-score   support\n",
      "\n",
      "           0       1.00      1.00      1.00      6524\n",
      "           1       0.00      0.00      0.00        30\n",
      "\n",
      "    accuracy                           0.99      6554\n",
      "   macro avg       0.50      0.50      0.50      6554\n",
      "weighted avg       0.99      0.99      0.99      6554\n",
      "\n",
      "aid_centers\n",
      "-------------------------------------------------------\n"
     ]
    },
    {
     "name": "stdout",
     "output_type": "stream",
     "text": [
      "              precision    recall  f1-score   support\n",
      "\n",
      "           0       0.99      1.00      0.99      6484\n",
      "           1       0.35      0.16      0.22        70\n",
      "\n",
      "    accuracy                           0.99      6554\n",
      "   macro avg       0.67      0.58      0.61      6554\n",
      "weighted avg       0.98      0.99      0.99      6554\n",
      "\n",
      "other_infrastructure\n",
      "-------------------------------------------------------\n",
      "              precision    recall  f1-score   support\n",
      "\n",
      "           0       0.96      0.99      0.98      6278\n",
      "           1       0.42      0.11      0.18       276\n",
      "\n",
      "    accuracy                           0.96      6554\n",
      "   macro avg       0.69      0.55      0.58      6554\n",
      "weighted avg       0.94      0.96      0.94      6554\n",
      "\n",
      "weather_related\n",
      "-------------------------------------------------------\n",
      "              precision    recall  f1-score   support\n",
      "\n",
      "           0       0.87      0.95      0.91      4707\n",
      "           1       0.84      0.65      0.73      1847\n",
      "\n",
      "    accuracy                           0.87      6554\n",
      "   macro avg       0.86      0.80      0.82      6554\n",
      "weighted avg       0.86      0.87      0.86      6554\n",
      "\n",
      "floods\n",
      "-------------------------------------------------------\n",
      "              precision    recall  f1-score   support\n",
      "\n",
      "           0       0.96      0.99      0.98      5991\n",
      "           1       0.86      0.58      0.69       563\n",
      "\n",
      "    accuracy                           0.96      6554\n",
      "   macro avg       0.91      0.78      0.83      6554\n",
      "weighted avg       0.95      0.96      0.95      6554\n",
      "\n",
      "storm\n",
      "-------------------------------------------------------\n",
      "              precision    recall  f1-score   support\n",
      "\n",
      "           0       0.95      0.98      0.96      5925\n",
      "           1       0.70      0.49      0.58       629\n",
      "\n",
      "    accuracy                           0.93      6554\n",
      "   macro avg       0.82      0.73      0.77      6554\n",
      "weighted avg       0.92      0.93      0.93      6554\n",
      "\n",
      "fire\n",
      "-------------------------------------------------------\n",
      "              precision    recall  f1-score   support\n",
      "\n",
      "           0       0.99      1.00      1.00      6499\n",
      "           1       0.56      0.27      0.37        55\n",
      "\n",
      "    accuracy                           0.99      6554\n",
      "   macro avg       0.77      0.64      0.68      6554\n",
      "weighted avg       0.99      0.99      0.99      6554\n",
      "\n",
      "earthquake\n",
      "-------------------------------------------------------\n",
      "              precision    recall  f1-score   support\n",
      "\n",
      "           0       0.97      0.99      0.98      5945\n",
      "           1       0.87      0.73      0.79       609\n",
      "\n",
      "    accuracy                           0.96      6554\n",
      "   macro avg       0.92      0.86      0.89      6554\n",
      "weighted avg       0.96      0.96      0.96      6554\n",
      "\n",
      "cold\n",
      "-------------------------------------------------------\n",
      "              precision    recall  f1-score   support\n",
      "\n",
      "           0       0.99      1.00      0.99      6428\n",
      "           1       0.65      0.33      0.44       126\n",
      "\n",
      "    accuracy                           0.98      6554\n",
      "   macro avg       0.82      0.66      0.72      6554\n",
      "weighted avg       0.98      0.98      0.98      6554\n",
      "\n",
      "other_weather\n",
      "-------------------------------------------------------\n",
      "              precision    recall  f1-score   support\n",
      "\n",
      "           0       0.96      0.99      0.97      6219\n",
      "           1       0.42      0.13      0.20       335\n",
      "\n",
      "    accuracy                           0.95      6554\n",
      "   macro avg       0.69      0.56      0.59      6554\n",
      "weighted avg       0.93      0.95      0.93      6554\n",
      "\n",
      "direct_report\n",
      "-------------------------------------------------------\n",
      "              precision    recall  f1-score   support\n",
      "\n",
      "           0       0.88      0.96      0.92      5241\n",
      "           1       0.74      0.49      0.59      1313\n",
      "\n",
      "    accuracy                           0.86      6554\n",
      "   macro avg       0.81      0.72      0.75      6554\n",
      "weighted avg       0.85      0.86      0.85      6554\n",
      "\n"
     ]
    }
   ],
   "source": [
    "def labeled_classification_report(y, y_pred):\n",
    "    '''display output of classification_report for each label'''\n",
    "    cols = y.columns.values\n",
    "    for i in range(0, len(cols)):\n",
    "        print(f'{cols[i]}')\n",
    "        print('-'*55)\n",
    "        c_pred = y_pred1[:,i]\n",
    "        c_true = y[cols[i]]\n",
    "        print(classification_report(c_true, c_pred))\n",
    "\n",
    "labeled_classification_report(y_test, y_pred1)"
   ]
  },
  {
   "cell_type": "code",
   "execution_count": 105,
   "metadata": {},
   "outputs": [],
   "source": [
    "def recall_f1_auc(y_true, predicted):\n",
    "    '''Calculates recall, f1, and auc scores'''\n",
    "    \n",
    "    f1 = f1_score(y_test, predicted, average = 'macro')\n",
    "    auc = roc_auc_score(y_true, predicted, multi_class = 'ovo', average ='macro')\n",
    "    recall = recall_score(y_true, predicted, average = 'macro')\n",
    "    return f1, auc, recall"
   ]
  },
  {
   "cell_type": "code",
   "execution_count": 106,
   "metadata": {},
   "outputs": [],
   "source": [
    "def display_scores(y_true, predicted):\n",
    "    '''Display f-1, recall, and AUC scores'''\n",
    "    \n",
    "    f1, auc, recall = recall_f1_auc(y_true, predicted)\n",
    "    display('======================')\n",
    "    display(f'recall score: {recall}')\n",
    "    display(f'f1 score: {f1}')\n",
    "    display(f'AUC score: {auc}')\n",
    "    display('======================')\n"
   ]
  },
  {
   "cell_type": "code",
   "execution_count": 107,
   "metadata": {},
   "outputs": [
    {
     "data": {
      "text/plain": [
       "'======================'"
      ]
     },
     "metadata": {},
     "output_type": "display_data"
    },
    {
     "data": {
      "text/plain": [
       "'recall score: 0.3439645868758845'"
      ]
     },
     "metadata": {},
     "output_type": "display_data"
    },
    {
     "data": {
      "text/plain": [
       "'f1 score: 0.41657584040291246'"
      ]
     },
     "metadata": {},
     "output_type": "display_data"
    },
    {
     "data": {
      "text/plain": [
       "'AUC score: 0.655006995483855'"
      ]
     },
     "metadata": {},
     "output_type": "display_data"
    },
    {
     "data": {
      "text/plain": [
       "'======================'"
      ]
     },
     "metadata": {},
     "output_type": "display_data"
    }
   ],
   "source": [
    "display_scores(y_test.values, y_pred1)"
   ]
  },
  {
   "cell_type": "markdown",
   "metadata": {},
   "source": [
    "### 6. Improve your model\n",
    "Use grid search to find better parameters. "
   ]
  },
  {
   "cell_type": "code",
   "execution_count": 110,
   "metadata": {},
   "outputs": [],
   "source": [
    "def evaluate_classifiers():\n",
    "    \"\"\"Evaluate different classifiers with default settings\"\"\"\n",
    "\n",
    "    vect = CountVectorizer(tokenizer = tokenize)\n",
    "    tfidf = TfidfTransformer()\n",
    "    y_true = y_test.values\n",
    "    perf = []\n",
    "    y_preds_all = dict()\n",
    "    score_names = ['f-1', 'AUC', 'recall']\n",
    "    \n",
    "    candidates = [\n",
    "        ['AdaBoost', MultiOutputClassifier(AdaBoostClassifier())],\n",
    "        ['RandomForest', RandomForestClassifier()],\n",
    "        ['ExtraTreesClassifier', ExtraTreesClassifier()],\n",
    "        ['DecisionTreeClassifier', DecisionTreeClassifier()]\n",
    "    ]\n",
    "\n",
    "    for i in range(len(candidates)):\n",
    "        p = Pipeline([\n",
    "            ('vect', vect),\n",
    "            ('tfidf', tfidf),\n",
    "            ('classifier', candidates[i][1])\n",
    "        ])\n",
    "    \n",
    "        candidates[i][1] = p.fit(X_train, y_train)\n",
    "        pred = p.predict(X_test)\n",
    "        y_preds_all[candidates[i][0]] = pred\n",
    "        f1, auc, recall = recall_f1_auc(y_true, pred)\n",
    "        perf.append([f1, auc, recall])\n",
    "    \n",
    "    return score_names, perf, candidates"
   ]
  },
  {
   "cell_type": "code",
   "execution_count": 111,
   "metadata": {},
   "outputs": [],
   "source": [
    "score_names, perf, candidates = evaluate_classifiers()"
   ]
  },
  {
   "cell_type": "code",
   "execution_count": 112,
   "metadata": {},
   "outputs": [
    {
     "data": {
      "text/plain": [
       "<matplotlib.axes._subplots.AxesSubplot at 0x7f8e6fdea1d0>"
      ]
     },
     "execution_count": 112,
     "metadata": {},
     "output_type": "execute_result"
    },
    {
     "data": {
      "image/png": "[encoded data removed]",
      "text/plain": [
       "<Figure size 432x288 with 1 Axes>"
      ]
     },
     "metadata": {
      "needs_background": "light"
     },
     "output_type": "display_data"
    }
   ],
   "source": [
    "import matplotlib.pyplot as plt\n",
    "\n",
    "score_df = pd.DataFrame(perf, columns = score_names, index = list(map(lambda x:  x[0], candidates)))\n",
    "score_df.plot(kind = 'bar')"
   ]
  },
  {
   "cell_type": "markdown",
   "metadata": {},
   "source": [
    "Looks like adaBoost has better score overall."
   ]
  },
  {
   "cell_type": "code",
   "execution_count": 113,
   "metadata": {},
   "outputs": [],
   "source": [
    "selected_pipeline = Pipeline([\n",
    "    ('vect', vect),\n",
    "    ('tfidf', tfidf),\n",
    "    ('classifier', MultiOutputClassifier(AdaBoostClassifier()))\n",
    "])"
   ]
  },
  {
   "cell_type": "code",
   "execution_count": 78,
   "metadata": {},
   "outputs": [
    {
     "data": {
      "text/plain": [
       "{'memory': None,\n",
       " 'steps': [('vect',\n",
       "   CountVectorizer(tokenizer=<function tokenize at 0x7f8e8298ddd0>)),\n",
       "  ('tfidf', TfidfTransformer()),\n",
       "  ('classifier', MultiOutputClassifier(estimator=AdaBoostClassifier()))],\n",
       " 'verbose': False,\n",
       " 'vect': CountVectorizer(tokenizer=<function tokenize at 0x7f8e8298ddd0>),\n",
       " 'tfidf': TfidfTransformer(),\n",
       " 'classifier': MultiOutputClassifier(estimator=AdaBoostClassifier()),\n",
       " 'vect__analyzer': 'word',\n",
       " 'vect__binary': False,\n",
       " 'vect__decode_error': 'strict',\n",
       " 'vect__dtype': numpy.int64,\n",
       " 'vect__encoding': 'utf-8',\n",
       " 'vect__input': 'content',\n",
       " 'vect__lowercase': True,\n",
       " 'vect__max_df': 1.0,\n",
       " 'vect__max_features': None,\n",
       " 'vect__min_df': 1,\n",
       " 'vect__ngram_range': (1, 1),\n",
       " 'vect__preprocessor': None,\n",
       " 'vect__stop_words': None,\n",
       " 'vect__strip_accents': None,\n",
       " 'vect__token_pattern': '(?u)\\\\b\\\\w\\\\w+\\\\b',\n",
       " 'vect__tokenizer': <function __main__.tokenize(text)>,\n",
       " 'vect__vocabulary': None,\n",
       " 'tfidf__norm': 'l2',\n",
       " 'tfidf__smooth_idf': True,\n",
       " 'tfidf__sublinear_tf': False,\n",
       " 'tfidf__use_idf': True,\n",
       " 'classifier__estimator__algorithm': 'SAMME.R',\n",
       " 'classifier__estimator__base_estimator': None,\n",
       " 'classifier__estimator__learning_rate': 1.0,\n",
       " 'classifier__estimator__n_estimators': 50,\n",
       " 'classifier__estimator__random_state': None,\n",
       " 'classifier__estimator': AdaBoostClassifier(),\n",
       " 'classifier__n_jobs': None}"
      ]
     },
     "execution_count": 78,
     "metadata": {},
     "output_type": "execute_result"
    }
   ],
   "source": [
    "selected_pipeline.get_params()"
   ]
  },
  {
   "cell_type": "code",
   "execution_count": 132,
   "metadata": {},
   "outputs": [],
   "source": [
    "def get_best_classifier(selected_pipeline, parameters):\n",
    "\n",
    "    cv = GridSearchCV(selected_pipeline, \n",
    "                      param_grid = parameters, \n",
    "                      verbose = 2, n_jobs = -1,\n",
    "                      scoring = ['recall_macro', 'f1_macro'], \n",
    "                      refit = 'recall_macro')\n",
    "    return cv"
   ]
  },
  {
   "cell_type": "code",
   "execution_count": 133,
   "metadata": {},
   "outputs": [],
   "source": [
    "parameters = {\n",
    "    'vect__max_df': (0.5, 0.75, 1.0),\n",
    "    'vect__ngram_range': ((1, 1), (1, 2)),\n",
    "    'classifier__estimator__learning_rate': [0.2, 0.4, 0.6, 0.8, 1],\n",
    "    'tfidf__use_idf': [True, False],\n",
    "    'classifier__estimator__algorithm':['SAMME', 'SAMME.R'],\n",
    "    'classifier__estimator__n_estimators': [5, 10, 15, 20, 30, 40, 50],\n",
    "    }\n",
    "\n",
    "cv = get_best_classifier(selected_pipeline, parameters)"
   ]
  },
  {
   "cell_type": "code",
   "execution_count": null,
   "metadata": {},
   "outputs": [
    {
     "name": "stdout",
     "output_type": "stream",
     "text": [
      "Fitting 5 folds for each of 840 candidates, totalling 4200 fits\n"
     ]
    },
    {
     "name": "stderr",
     "output_type": "stream",
     "text": [
      "[Parallel(n_jobs=-1)]: Using backend LokyBackend with 8 concurrent workers.\n",
      "[Parallel(n_jobs=-1)]: Done  25 tasks      | elapsed:  3.4min\n",
      "[Parallel(n_jobs=-1)]: Done 146 tasks      | elapsed: 29.8min\n",
      "[Parallel(n_jobs=-1)]: Done 349 tasks      | elapsed: 118.6min\n",
      "[Parallel(n_jobs=-1)]: Done 632 tasks      | elapsed: 211.8min\n"
     ]
    }
   ],
   "source": [
    "%%time\n",
    "\n",
    "cv.fit(X_train, y_train)"
   ]
  },
  {
   "cell_type": "code",
   "execution_count": 131,
   "metadata": {},
   "outputs": [
    {
     "ename": "AttributeError",
     "evalue": "'GridSearchCV' object has no attribute 'best_estimator_'",
     "output_type": "error",
     "traceback": [
      "\u001b[0;31m---------------------------------------------------------------------------\u001b[0m",
      "\u001b[0;31mAttributeError\u001b[0m                            Traceback (most recent call last)",
      "\u001b[0;32m<ipython-input-131-2cb23f3dad05>\u001b[0m in \u001b[0;36m<module>\u001b[0;34m\u001b[0m\n\u001b[0;32m----> 1\u001b[0;31m \u001b[0mcv\u001b[0m\u001b[0;34m.\u001b[0m\u001b[0mbest_estimator_\u001b[0m\u001b[0;34m\u001b[0m\u001b[0;34m\u001b[0m\u001b[0m\n\u001b[0m",
      "\u001b[0;31mAttributeError\u001b[0m: 'GridSearchCV' object has no attribute 'best_estimator_'"
     ]
    }
   ],
   "source": [
    "cv.best_estimator_"
   ]
  },
  {
   "cell_type": "code",
   "execution_count": 118,
   "metadata": {},
   "outputs": [
    {
     "data": {
      "text/plain": [
       "{'classifier__estimator__algorithm': 'SAMME.R',\n",
       " 'classifier__estimator__learning_rate': 1,\n",
       " 'classifier__estimator__n_estimators': 50,\n",
       " 'tfidf__use_idf': True}"
      ]
     },
     "execution_count": 118,
     "metadata": {},
     "output_type": "execute_result"
    }
   ],
   "source": [
    "cv.best_params_"
   ]
  },
  {
   "cell_type": "markdown",
   "metadata": {},
   "source": [
    "### 7. Test your model\n",
    "Show the accuracy, precision, and recall of the tuned model.  \n",
    "\n",
    "Since this project focuses on code quality, process, and  pipelines, there is no minimum performance metric needed to pass. However, make sure to fine tune your models for accuracy, precision and recall to make your project stand out - especially for your portfolio!"
   ]
  },
  {
   "cell_type": "code",
   "execution_count": 119,
   "metadata": {},
   "outputs": [],
   "source": [
    "y_pred2 = cv.predict(X_test)"
   ]
  },
  {
   "cell_type": "code",
   "execution_count": 120,
   "metadata": {},
   "outputs": [
    {
     "data": {
      "text/plain": [
       "'======================'"
      ]
     },
     "metadata": {},
     "output_type": "display_data"
    },
    {
     "data": {
      "text/plain": [
       "'recall score: 0.3439645868758845'"
      ]
     },
     "metadata": {},
     "output_type": "display_data"
    },
    {
     "data": {
      "text/plain": [
       "'f1 score: 0.41657584040291246'"
      ]
     },
     "metadata": {},
     "output_type": "display_data"
    },
    {
     "data": {
      "text/plain": [
       "'AUC score: 0.655006995483855'"
      ]
     },
     "metadata": {},
     "output_type": "display_data"
    },
    {
     "data": {
      "text/plain": [
       "'======================'"
      ]
     },
     "metadata": {},
     "output_type": "display_data"
    }
   ],
   "source": [
    "display_scores(y_test.values, y_pred2)"
   ]
  },
  {
   "cell_type": "markdown",
   "metadata": {},
   "source": [
    "### 8. Try improving your model further. Here are a few ideas:\n",
    "* try other machine learning algorithms\n",
    "* add other features besides the TF-IDF"
   ]
  },
  {
   "cell_type": "code",
   "execution_count": 33,
   "metadata": {},
   "outputs": [],
   "source": [
    "class LengthExtractor(BaseEstimator, TransformerMixin):\n",
    "    '''Length exrtactor custom transformer'''\n",
    "    def length(self, text):\n",
    "        return len(text)\n",
    "\n",
    "    def fit(self, x, y = None):\n",
    "        return self\n",
    "    \n",
    "    def transform(self, X):\n",
    "        len_list = pd.Series(X).apply(self.length)\n",
    "        return pd.DataFrame(len_list)"
   ]
  },
  {
   "cell_type": "code",
   "execution_count": 42,
   "metadata": {},
   "outputs": [],
   "source": [
    "vect = CountVectorizer(tokenizer = tokenize)\n",
    "tfidf = TfidfTransformer()\n",
    "\n",
    "pipeline_extended = Pipeline([\n",
    "    ('features', FeatureUnion([\n",
    "        ('text', Pipeline([\n",
    "            ('vect', vect),\n",
    "            ('tfidf', tfidf)\n",
    "        ])),\n",
    "        ('length', LengthExtractor())\n",
    "    ])),\n",
    "    ('classifier', MultiOutputClassifier(AdaBoostClassifier()))\n",
    "])"
   ]
  },
  {
   "cell_type": "code",
   "execution_count": 43,
   "metadata": {},
   "outputs": [
    {
     "data": {
      "text/plain": [
       "Pipeline(steps=[('features',\n",
       "                 FeatureUnion(transformer_list=[('text',\n",
       "                                                 Pipeline(steps=[('vect',\n",
       "                                                                  CountVectorizer(tokenizer=<function tokenize at 0x7f8e8298ddd0>)),\n",
       "                                                                 ('tfidf',\n",
       "                                                                  TfidfTransformer())])),\n",
       "                                                ('length',\n",
       "                                                 LengthExtractor())])),\n",
       "                ('classifier',\n",
       "                 MultiOutputClassifier(estimator=AdaBoostClassifier()))])"
      ]
     },
     "execution_count": 43,
     "metadata": {},
     "output_type": "execute_result"
    }
   ],
   "source": [
    "pipeline_extended.fit(X_train, y_train)"
   ]
  },
  {
   "cell_type": "code",
   "execution_count": 44,
   "metadata": {},
   "outputs": [],
   "source": [
    "pred_extended = pipeline_extended.predict(X_test)"
   ]
  },
  {
   "cell_type": "code",
   "execution_count": 45,
   "metadata": {},
   "outputs": [
    {
     "data": {
      "text/plain": [
       "'f1-score: 0.627020549545226'"
      ]
     },
     "metadata": {},
     "output_type": "display_data"
    },
    {
     "data": {
      "text/plain": [
       "'AUC score: 0.6963812220315793'"
      ]
     },
     "metadata": {},
     "output_type": "display_data"
    }
   ],
   "source": [
    "display_scores(y_test.values, pred_extended)"
   ]
  },
  {
   "cell_type": "code",
   "execution_count": 48,
   "metadata": {},
   "outputs": [
    {
     "data": {
      "text/plain": [
       "{'memory': None,\n",
       " 'steps': [('features', FeatureUnion(transformer_list=[('text',\n",
       "                                   Pipeline(steps=[('vect',\n",
       "                                                    CountVectorizer(tokenizer=<function tokenize at 0x7f8e8298ddd0>)),\n",
       "                                                   ('tfidf',\n",
       "                                                    TfidfTransformer())])),\n",
       "                                  ('length', LengthExtractor())])),\n",
       "  ('classifier', MultiOutputClassifier(estimator=AdaBoostClassifier()))],\n",
       " 'verbose': False,\n",
       " 'features': FeatureUnion(transformer_list=[('text',\n",
       "                                 Pipeline(steps=[('vect',\n",
       "                                                  CountVectorizer(tokenizer=<function tokenize at 0x7f8e8298ddd0>)),\n",
       "                                                 ('tfidf',\n",
       "                                                  TfidfTransformer())])),\n",
       "                                ('length', LengthExtractor())]),\n",
       " 'classifier': MultiOutputClassifier(estimator=AdaBoostClassifier()),\n",
       " 'features__n_jobs': None,\n",
       " 'features__transformer_list': [('text',\n",
       "   Pipeline(steps=[('vect',\n",
       "                    CountVectorizer(tokenizer=<function tokenize at 0x7f8e8298ddd0>)),\n",
       "                   ('tfidf', TfidfTransformer())])),\n",
       "  ('length', LengthExtractor())],\n",
       " 'features__transformer_weights': None,\n",
       " 'features__verbose': False,\n",
       " 'features__text': Pipeline(steps=[('vect',\n",
       "                  CountVectorizer(tokenizer=<function tokenize at 0x7f8e8298ddd0>)),\n",
       "                 ('tfidf', TfidfTransformer())]),\n",
       " 'features__length': LengthExtractor(),\n",
       " 'features__text__memory': None,\n",
       " 'features__text__steps': [('vect',\n",
       "   CountVectorizer(tokenizer=<function tokenize at 0x7f8e8298ddd0>)),\n",
       "  ('tfidf', TfidfTransformer())],\n",
       " 'features__text__verbose': False,\n",
       " 'features__text__vect': CountVectorizer(tokenizer=<function tokenize at 0x7f8e8298ddd0>),\n",
       " 'features__text__tfidf': TfidfTransformer(),\n",
       " 'features__text__vect__analyzer': 'word',\n",
       " 'features__text__vect__binary': False,\n",
       " 'features__text__vect__decode_error': 'strict',\n",
       " 'features__text__vect__dtype': numpy.int64,\n",
       " 'features__text__vect__encoding': 'utf-8',\n",
       " 'features__text__vect__input': 'content',\n",
       " 'features__text__vect__lowercase': True,\n",
       " 'features__text__vect__max_df': 1.0,\n",
       " 'features__text__vect__max_features': None,\n",
       " 'features__text__vect__min_df': 1,\n",
       " 'features__text__vect__ngram_range': (1, 1),\n",
       " 'features__text__vect__preprocessor': None,\n",
       " 'features__text__vect__stop_words': None,\n",
       " 'features__text__vect__strip_accents': None,\n",
       " 'features__text__vect__token_pattern': '(?u)\\\\b\\\\w\\\\w+\\\\b',\n",
       " 'features__text__vect__tokenizer': <function __main__.tokenize(text)>,\n",
       " 'features__text__vect__vocabulary': None,\n",
       " 'features__text__tfidf__norm': 'l2',\n",
       " 'features__text__tfidf__smooth_idf': True,\n",
       " 'features__text__tfidf__sublinear_tf': False,\n",
       " 'features__text__tfidf__use_idf': True,\n",
       " 'classifier__estimator__algorithm': 'SAMME.R',\n",
       " 'classifier__estimator__base_estimator': None,\n",
       " 'classifier__estimator__learning_rate': 1.0,\n",
       " 'classifier__estimator__n_estimators': 50,\n",
       " 'classifier__estimator__random_state': None,\n",
       " 'classifier__estimator': AdaBoostClassifier(),\n",
       " 'classifier__n_jobs': None}"
      ]
     },
     "execution_count": 48,
     "metadata": {},
     "output_type": "execute_result"
    }
   ],
   "source": [
    "pipeline_extended.get_params()"
   ]
  },
  {
   "cell_type": "code",
   "execution_count": 135,
   "metadata": {},
   "outputs": [],
   "source": [
    "parameters = {\n",
    "    'classifier__estimator__learning_rate': [0.00001, 0.000001, 0.2, 0.4, 0.6, 0.8, 1],\n",
    "    'features__text__tfidf__use_idf': [True, False],\n",
    "    'classifier__estimator__algorithm':['SAMME', 'SAMME.R'],\n",
    "    'classifier__estimator__n_estimators': [5, 10, 15, 20, 30, 40, 50],\n",
    "    }\n",
    "cv2 = get_best_classifier(pipeline_extended, parameters)"
   ]
  },
  {
   "cell_type": "code",
   "execution_count": 136,
   "metadata": {},
   "outputs": [
    {
     "name": "stdout",
     "output_type": "stream",
     "text": [
      "Fitting 5 folds for each of 196 candidates, totalling 980 fits\n"
     ]
    },
    {
     "name": "stderr",
     "output_type": "stream",
     "text": [
      "[Parallel(n_jobs=-1)]: Using backend LokyBackend with 8 concurrent workers.\n",
      "[Parallel(n_jobs=-1)]: Done  25 tasks      | elapsed:  3.9min\n",
      "[Parallel(n_jobs=-1)]: Done 146 tasks      | elapsed: 37.1min\n",
      "[Parallel(n_jobs=-1)]: Done 349 tasks      | elapsed: 84.0min\n",
      "[Parallel(n_jobs=-1)]: Done 632 tasks      | elapsed: 147.0min\n",
      "[Parallel(n_jobs=-1)]: Done 980 out of 980 | elapsed: 226.8min finished\n"
     ]
    },
    {
     "data": {
      "text/plain": [
       "GridSearchCV(estimator=Pipeline(steps=[('features',\n",
       "                                        FeatureUnion(transformer_list=[('text',\n",
       "                                                                        Pipeline(steps=[('vect',\n",
       "                                                                                         CountVectorizer(tokenizer=<function tokenize at 0x7f8e8298ddd0>)),\n",
       "                                                                                        ('tfidf',\n",
       "                                                                                         TfidfTransformer())])),\n",
       "                                                                       ('length',\n",
       "                                                                        LengthExtractor())])),\n",
       "                                       ('classifier',\n",
       "                                        MultiOutputClassifier(estimator=AdaBoostClassifier()))]),\n",
       "             n_jobs=-1,\n",
       "             param_grid={'classifier__estimator__algorithm': ['SAMME',\n",
       "                                                              'SAMME.R'],\n",
       "                         'classifier__estimator__learning_rate': [1e-05, 1e-06,\n",
       "                                                                  0.2, 0.4, 0.6,\n",
       "                                                                  0.8, 1],\n",
       "                         'classifier__estimator__n_estimators': [5, 10, 15, 20,\n",
       "                                                                 30, 40, 50],\n",
       "                         'features__text__tfidf__use_idf': [True, False]},\n",
       "             refit='recall_macro', scoring=['recall_macro', 'f1_macro'],\n",
       "             verbose=2)"
      ]
     },
     "execution_count": 136,
     "metadata": {},
     "output_type": "execute_result"
    }
   ],
   "source": [
    "cv2.fit(X_train, y_train)"
   ]
  },
  {
   "cell_type": "code",
   "execution_count": 58,
   "metadata": {},
   "outputs": [],
   "source": [
    "pred_ext = cv2.predict(X_test)"
   ]
  },
  {
   "cell_type": "code",
   "execution_count": 59,
   "metadata": {},
   "outputs": [
    {
     "data": {
      "text/plain": [
       "'f1-score: 0.6153685580320022'"
      ]
     },
     "metadata": {},
     "output_type": "display_data"
    },
    {
     "data": {
      "text/plain": [
       "'AUC score: 0.6845988517837202'"
      ]
     },
     "metadata": {},
     "output_type": "display_data"
    }
   ],
   "source": [
    "display_scores(y_test.values, pred_ext)"
   ]
  },
  {
   "cell_type": "markdown",
   "metadata": {},
   "source": [
    "### 9. Export your model as a pickle file"
   ]
  },
  {
   "cell_type": "code",
   "execution_count": 70,
   "metadata": {},
   "outputs": [],
   "source": [
    "s = pickle.dump(cv, open('models/classifier.pkl', 'wb'))"
   ]
  },
  {
   "cell_type": "markdown",
   "metadata": {},
   "source": [
    "### 10. Use this notebook to complete `train.py`\n",
    "Use the template file attached in the Resources folder to write a script that runs the steps above to create a database and export a model based on a new dataset specified by the user."
   ]
  },
  {
   "cell_type": "code",
   "execution_count": null,
   "metadata": {},
   "outputs": [],
   "source": []
  }
 ],
 "metadata": {
  "kernelspec": {
   "display_name": "Python 3",
   "language": "python",
   "name": "python3"
  },
  "language_info": {
   "codemirror_mode": {
    "name": "ipython",
    "version": 3
   },
   "file_extension": ".py",
   "mimetype": "text/x-python",
   "name": "python",
   "nbconvert_exporter": "python",
   "pygments_lexer": "ipython3",
   "version": "3.7.7"
  }
 },
 "nbformat": 4,
 "nbformat_minor": 2
}
